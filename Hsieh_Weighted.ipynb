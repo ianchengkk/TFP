{
 "cells": [
  {
   "cell_type": "markdown",
   "metadata": {},
   "source": [
    "## Hsieh Weighted TFPG estimation \n",
    "\n",
    "\n",
    "\n",
    "**Note**: for 2009-2019 annual special income in monthly "
   ]
  },
  {
   "cell_type": "markdown",
   "metadata": {},
   "source": [
    "## Init"
   ]
  },
  {
   "cell_type": "code",
   "execution_count": 62,
   "metadata": {},
   "outputs": [],
   "source": [
    "import numpy as np\n",
    "import pandas as pd\n",
    "from functools import reduce\n",
    "import plotly.express as px\n",
    "from plotnine import *"
   ]
  },
  {
   "cell_type": "markdown",
   "metadata": {},
   "source": [
    "## Import Data"
   ]
  },
  {
   "cell_type": "code",
   "execution_count": 63,
   "metadata": {},
   "outputs": [],
   "source": [
    "#Capital\n",
    "gfcf = pd.read_csv('./data/KRGFCF_breakdown.csv', index_col=[0]).dropna()\n",
    "gfcf_real = pd.read_csv('./data/KRGFCF_breakdown_real.csv', index_col=[0]).dropna()"
   ]
  },
  {
   "cell_type": "code",
   "execution_count": 64,
   "metadata": {},
   "outputs": [],
   "source": [
    "gdp_deflator = pd.read_csv('./data/KRGDPDeflator.csv', skiprows=26)\n",
    "gdp_deflator.columns = ['year', 'GDPDeflator']\n"
   ]
  },
  {
   "cell_type": "code",
   "execution_count": 65,
   "metadata": {},
   "outputs": [],
   "source": [
    "discount_rate = pd.read_csv('./data/KRDiscountRate.csv')\n",
    "discount_rate.columns =['date', 'DiscountRate']"
   ]
  },
  {
   "cell_type": "code",
   "execution_count": 66,
   "metadata": {},
   "outputs": [],
   "source": [
    "ls_oecd = pd.read_csv('./data/KRLS_OECD.csv', skiprows=25)\n",
    "ls_oecd.columns = ['year', 'LS']"
   ]
  },
  {
   "cell_type": "code",
   "execution_count": 67,
   "metadata": {},
   "outputs": [],
   "source": [
    "#Labor\n",
    "wwc = pd.read_csv('./data/KRWdlnw.csv')\n",
    "wwc.columns = ['year', 'WeightedWageChange']\n",
    "wwc.set_index('year', inplace=True)"
   ]
  },
  {
   "cell_type": "markdown",
   "metadata": {},
   "source": [
    "## Tidy Data\n",
    "tidy and transform to a harmonised format"
   ]
  },
  {
   "cell_type": "markdown",
   "metadata": {},
   "source": [
    "### Capital"
   ]
  },
  {
   "cell_type": "code",
   "execution_count": 68,
   "metadata": {},
   "outputs": [],
   "source": [
    "def unflatten_cols(df: pd.DataFrame, delim: str = \"\"):\n",
    "    \"\"\"Unflatten a single column level into multiple column levels.\n",
    "\n",
    "    Args:\n",
    "        delim: the delimiter to split on to identify the multiple column values.\n",
    "\n",
    "    Returns:\n",
    "        A copy of the dataframe with the new column levels.\n",
    "\n",
    "    \"\"\"\n",
    "    new_cols = pd.MultiIndex.from_tuples([tuple(col.split(delim)) for col in df.columns])\n",
    "    ndf = df.copy()\n",
    "    ndf.columns = new_cols\n",
    "\n",
    "    return ndf\n"
   ]
  },
  {
   "cell_type": "code",
   "execution_count": 69,
   "metadata": {},
   "outputs": [],
   "source": [
    "gfcf =\\\n",
    "(gfcf\n",
    " .rename(columns=lambda x: x.replace(\"GDP: sa: GFCF: \", \"\").replace(\" \", \"\"))\n",
    " .drop(['Construction(CS)', 'CS:Buildings', 'FacilitiesInvestment(FI)', 'IntellectualPropertyProducts(IPP)'], axis=1)\n",
    " .pipe(unflatten_cols, \":\")\n",
    " .rename_axis(['Category', 'SubCategory1','SubCategory2'], axis=1)\n",
    " #filter\n",
    " .loc[:,'CS':'FI']\n",
    ")"
   ]
  },
  {
   "cell_type": "code",
   "execution_count": 70,
   "metadata": {},
   "outputs": [],
   "source": [
    "gfcf_real =\\\n",
    "(gfcf_real\n",
    " .rename(columns=lambda x: x.replace(\"GDP: 2015p: sa: GFCF: \", \"\").replace(\" \", \"\"))\n",
    " .drop(['Construction(CS)', 'CS:Buildings', 'FacilitiesInvestment(FI)', 'IntellectualPropertyProducts(IPP)'], axis=1)\n",
    " .pipe(unflatten_cols, \":\")\n",
    " .rename_axis(['Category', 'SubCategory1','SubCategory2'], axis=1)\n",
    " #filter\n",
    " .loc[:,'CS':'FI']\n",
    ")"
   ]
  },
  {
   "cell_type": "markdown",
   "metadata": {},
   "source": [
    "## Transform Data"
   ]
  },
  {
   "cell_type": "markdown",
   "metadata": {},
   "source": [
    "### Capital"
   ]
  },
  {
   "cell_type": "markdown",
   "metadata": {},
   "source": [
    "Nominal"
   ]
  },
  {
   "cell_type": "code",
   "execution_count": 71,
   "metadata": {},
   "outputs": [],
   "source": [
    "#share\n",
    "gfcf_sum =\\\n",
    "(gfcf\n",
    " .sum(axis=1)\n",
    ")\n",
    "\n",
    "gfcf_share = gfcf.div(gfcf_sum, axis=0)"
   ]
  },
  {
   "cell_type": "markdown",
   "metadata": {},
   "source": [
    "Real"
   ]
  },
  {
   "cell_type": "code",
   "execution_count": 72,
   "metadata": {},
   "outputs": [],
   "source": [
    "gfcf_deflator = gfcf/gfcf_real\n",
    "\n",
    "\n",
    "def set100(df, year):\n",
    "\n",
    "    df = df.query(f'year >= {str(year)}').copy()\n",
    "    df.loc[1980,:] = 100\n",
    "    \n",
    "    return df\n",
    "\n",
    "    \n",
    "gfcf_deflator =\\\n",
    "(gfcf_deflator\n",
    " .apply(np.log)\n",
    " .diff()\n",
    " .apply(lambda x: x+1)\n",
    " .pipe(set100, 1980)\n",
    " .cumprod()\n",
    ")"
   ]
  },
  {
   "cell_type": "code",
   "execution_count": 73,
   "metadata": {},
   "outputs": [],
   "source": [
    "gdp_deflator =\\\n",
    "(gdp_deflator\n",
    " .set_index('year')\n",
    " .apply(np.log)\n",
    " .diff()\n",
    " .apply(lambda x: x+1)\n",
    " .pipe(set100, 1980)\n",
    " .cumprod()\n",
    " ['GDPDeflator']\n",
    ")"
   ]
  },
  {
   "cell_type": "code",
   "execution_count": 74,
   "metadata": {},
   "outputs": [],
   "source": [
    "gfcf_relative_price = gfcf_deflator.div(gdp_deflator, axis=0)"
   ]
  },
  {
   "cell_type": "markdown",
   "metadata": {},
   "source": [
    "**Merge**"
   ]
  },
  {
   "cell_type": "code",
   "execution_count": 75,
   "metadata": {},
   "outputs": [
    {
     "data": {
      "text/html": [
       "<div>\n",
       "<style scoped>\n",
       "    .dataframe tbody tr th:only-of-type {\n",
       "        vertical-align: middle;\n",
       "    }\n",
       "\n",
       "    .dataframe tbody tr th {\n",
       "        vertical-align: top;\n",
       "    }\n",
       "\n",
       "    .dataframe thead tr th {\n",
       "        text-align: left;\n",
       "    }\n",
       "\n",
       "    .dataframe thead tr:last-of-type th {\n",
       "        text-align: right;\n",
       "    }\n",
       "</style>\n",
       "<table border=\"1\" class=\"dataframe\">\n",
       "  <thead>\n",
       "    <tr>\n",
       "      <th>Category</th>\n",
       "      <th colspan=\"3\" halign=\"left\">CS</th>\n",
       "      <th colspan=\"2\" halign=\"left\">FI</th>\n",
       "    </tr>\n",
       "    <tr>\n",
       "      <th>SubCategory1</th>\n",
       "      <th colspan=\"2\" halign=\"left\">Buildings</th>\n",
       "      <th>CivilEngineering</th>\n",
       "      <th>TransportEquipment</th>\n",
       "      <th>Machinery&amp;Equipment</th>\n",
       "    </tr>\n",
       "    <tr>\n",
       "      <th>SubCategory2</th>\n",
       "      <th>ResidentialBuilding</th>\n",
       "      <th>NonResidentialBuilding</th>\n",
       "      <th>NaN</th>\n",
       "      <th>NaN</th>\n",
       "      <th>NaN</th>\n",
       "    </tr>\n",
       "    <tr>\n",
       "      <th>year</th>\n",
       "      <th></th>\n",
       "      <th></th>\n",
       "      <th></th>\n",
       "      <th></th>\n",
       "      <th></th>\n",
       "    </tr>\n",
       "  </thead>\n",
       "  <tbody>\n",
       "    <tr>\n",
       "      <th>1970</th>\n",
       "      <td>165.9</td>\n",
       "      <td>145.4</td>\n",
       "      <td>180.9</td>\n",
       "      <td>89.6</td>\n",
       "      <td>124.4</td>\n",
       "    </tr>\n",
       "    <tr>\n",
       "      <th>1971</th>\n",
       "      <td>166.0</td>\n",
       "      <td>132.7</td>\n",
       "      <td>199.6</td>\n",
       "      <td>120.6</td>\n",
       "      <td>164.0</td>\n",
       "    </tr>\n",
       "    <tr>\n",
       "      <th>1972</th>\n",
       "      <td>155.5</td>\n",
       "      <td>148.7</td>\n",
       "      <td>231.6</td>\n",
       "      <td>159.7</td>\n",
       "      <td>196.1</td>\n",
       "    </tr>\n",
       "    <tr>\n",
       "      <th>1973</th>\n",
       "      <td>236.7</td>\n",
       "      <td>250.8</td>\n",
       "      <td>276.8</td>\n",
       "      <td>225.3</td>\n",
       "      <td>324.8</td>\n",
       "    </tr>\n",
       "    <tr>\n",
       "      <th>1974</th>\n",
       "      <td>511.3</td>\n",
       "      <td>320.0</td>\n",
       "      <td>367.7</td>\n",
       "      <td>461.7</td>\n",
       "      <td>447.4</td>\n",
       "    </tr>\n",
       "    <tr>\n",
       "      <th>1975</th>\n",
       "      <td>627.9</td>\n",
       "      <td>399.0</td>\n",
       "      <td>553.9</td>\n",
       "      <td>579.7</td>\n",
       "      <td>645.8</td>\n",
       "    </tr>\n",
       "    <tr>\n",
       "      <th>1976</th>\n",
       "      <td>705.9</td>\n",
       "      <td>539.9</td>\n",
       "      <td>727.0</td>\n",
       "      <td>734.4</td>\n",
       "      <td>1019.9</td>\n",
       "    </tr>\n",
       "    <tr>\n",
       "      <th>1977</th>\n",
       "      <td>967.4</td>\n",
       "      <td>693.3</td>\n",
       "      <td>1107.9</td>\n",
       "      <td>822.1</td>\n",
       "      <td>1718.7</td>\n",
       "    </tr>\n",
       "    <tr>\n",
       "      <th>1978</th>\n",
       "      <td>1568.4</td>\n",
       "      <td>1123.7</td>\n",
       "      <td>1458.3</td>\n",
       "      <td>1173.6</td>\n",
       "      <td>2900.7</td>\n",
       "    </tr>\n",
       "    <tr>\n",
       "      <th>1979</th>\n",
       "      <td>1812.7</td>\n",
       "      <td>1554.6</td>\n",
       "      <td>2119.6</td>\n",
       "      <td>1372.2</td>\n",
       "      <td>4031.4</td>\n",
       "    </tr>\n",
       "    <tr>\n",
       "      <th>1980</th>\n",
       "      <td>2228.1</td>\n",
       "      <td>1844.9</td>\n",
       "      <td>2942.4</td>\n",
       "      <td>1730.1</td>\n",
       "      <td>3939.9</td>\n",
       "    </tr>\n",
       "    <tr>\n",
       "      <th>1981</th>\n",
       "      <td>2035.0</td>\n",
       "      <td>1815.4</td>\n",
       "      <td>3575.8</td>\n",
       "      <td>2245.3</td>\n",
       "      <td>4267.1</td>\n",
       "    </tr>\n",
       "    <tr>\n",
       "      <th>1982</th>\n",
       "      <td>2667.1</td>\n",
       "      <td>2135.4</td>\n",
       "      <td>4320.6</td>\n",
       "      <td>2282.7</td>\n",
       "      <td>4910.5</td>\n",
       "    </tr>\n",
       "    <tr>\n",
       "      <th>1983</th>\n",
       "      <td>3668.8</td>\n",
       "      <td>2940.6</td>\n",
       "      <td>4897.5</td>\n",
       "      <td>2736.9</td>\n",
       "      <td>5576.4</td>\n",
       "    </tr>\n",
       "    <tr>\n",
       "      <th>1984</th>\n",
       "      <td>3469.0</td>\n",
       "      <td>3745.7</td>\n",
       "      <td>5501.5</td>\n",
       "      <td>3224.1</td>\n",
       "      <td>6400.5</td>\n",
       "    </tr>\n",
       "    <tr>\n",
       "      <th>1985</th>\n",
       "      <td>3589.5</td>\n",
       "      <td>3679.6</td>\n",
       "      <td>6422.4</td>\n",
       "      <td>3640.8</td>\n",
       "      <td>7328.0</td>\n",
       "    </tr>\n",
       "    <tr>\n",
       "      <th>1986</th>\n",
       "      <td>4162.9</td>\n",
       "      <td>3926.4</td>\n",
       "      <td>6205.9</td>\n",
       "      <td>4019.5</td>\n",
       "      <td>10218.5</td>\n",
       "    </tr>\n",
       "    <tr>\n",
       "      <th>1987</th>\n",
       "      <td>4711.0</td>\n",
       "      <td>5214.9</td>\n",
       "      <td>7248.0</td>\n",
       "      <td>4720.8</td>\n",
       "      <td>12628.2</td>\n",
       "    </tr>\n",
       "    <tr>\n",
       "      <th>1988</th>\n",
       "      <td>6292.9</td>\n",
       "      <td>6939.0</td>\n",
       "      <td>8228.3</td>\n",
       "      <td>5626.9</td>\n",
       "      <td>14780.3</td>\n",
       "    </tr>\n",
       "    <tr>\n",
       "      <th>1989</th>\n",
       "      <td>8138.9</td>\n",
       "      <td>9301.5</td>\n",
       "      <td>10030.3</td>\n",
       "      <td>6560.8</td>\n",
       "      <td>16552.7</td>\n",
       "    </tr>\n",
       "    <tr>\n",
       "      <th>1990</th>\n",
       "      <td>14757.2</td>\n",
       "      <td>12929.8</td>\n",
       "      <td>13668.2</td>\n",
       "      <td>8630.6</td>\n",
       "      <td>20066.2</td>\n",
       "    </tr>\n",
       "    <tr>\n",
       "      <th>1991</th>\n",
       "      <td>19563.2</td>\n",
       "      <td>15570.5</td>\n",
       "      <td>19369.7</td>\n",
       "      <td>9931.3</td>\n",
       "      <td>24209.2</td>\n",
       "    </tr>\n",
       "    <tr>\n",
       "      <th>1992</th>\n",
       "      <td>20147.7</td>\n",
       "      <td>16198.2</td>\n",
       "      <td>23188.4</td>\n",
       "      <td>10956.4</td>\n",
       "      <td>25287.2</td>\n",
       "    </tr>\n",
       "    <tr>\n",
       "      <th>1993</th>\n",
       "      <td>23303.1</td>\n",
       "      <td>20117.3</td>\n",
       "      <td>24849.9</td>\n",
       "      <td>11549.5</td>\n",
       "      <td>26808.6</td>\n",
       "    </tr>\n",
       "    <tr>\n",
       "      <th>1994</th>\n",
       "      <td>24514.0</td>\n",
       "      <td>22960.9</td>\n",
       "      <td>28331.8</td>\n",
       "      <td>14496.1</td>\n",
       "      <td>34750.8</td>\n",
       "    </tr>\n",
       "    <tr>\n",
       "      <th>1995</th>\n",
       "      <td>28785.0</td>\n",
       "      <td>28754.1</td>\n",
       "      <td>32100.6</td>\n",
       "      <td>14427.6</td>\n",
       "      <td>44032.8</td>\n",
       "    </tr>\n",
       "    <tr>\n",
       "      <th>1996</th>\n",
       "      <td>30947.9</td>\n",
       "      <td>30387.3</td>\n",
       "      <td>40174.7</td>\n",
       "      <td>16686.5</td>\n",
       "      <td>49572.2</td>\n",
       "    </tr>\n",
       "    <tr>\n",
       "      <th>1997</th>\n",
       "      <td>31322.7</td>\n",
       "      <td>33523.1</td>\n",
       "      <td>45699.4</td>\n",
       "      <td>15197.9</td>\n",
       "      <td>48202.7</td>\n",
       "    </tr>\n",
       "    <tr>\n",
       "      <th>1998</th>\n",
       "      <td>28282.5</td>\n",
       "      <td>27543.4</td>\n",
       "      <td>44868.6</td>\n",
       "      <td>8982.3</td>\n",
       "      <td>35262.2</td>\n",
       "    </tr>\n",
       "    <tr>\n",
       "      <th>1999</th>\n",
       "      <td>26538.1</td>\n",
       "      <td>22022.4</td>\n",
       "      <td>47869.4</td>\n",
       "      <td>14419.6</td>\n",
       "      <td>44147.8</td>\n",
       "    </tr>\n",
       "    <tr>\n",
       "      <th>2000</th>\n",
       "      <td>24556.9</td>\n",
       "      <td>26181.8</td>\n",
       "      <td>47803.8</td>\n",
       "      <td>19208.4</td>\n",
       "      <td>61765.1</td>\n",
       "    </tr>\n",
       "    <tr>\n",
       "      <th>2001</th>\n",
       "      <td>30158.5</td>\n",
       "      <td>28538.2</td>\n",
       "      <td>50877.4</td>\n",
       "      <td>17677.2</td>\n",
       "      <td>58171.8</td>\n",
       "    </tr>\n",
       "    <tr>\n",
       "      <th>2002</th>\n",
       "      <td>36217.7</td>\n",
       "      <td>35346.7</td>\n",
       "      <td>50707.7</td>\n",
       "      <td>19904.8</td>\n",
       "      <td>60284.5</td>\n",
       "    </tr>\n",
       "    <tr>\n",
       "      <th>2003</th>\n",
       "      <td>43135.9</td>\n",
       "      <td>43052.1</td>\n",
       "      <td>56099.7</td>\n",
       "      <td>18260.9</td>\n",
       "      <td>62477.8</td>\n",
       "    </tr>\n",
       "    <tr>\n",
       "      <th>2004</th>\n",
       "      <td>47406.8</td>\n",
       "      <td>47413.1</td>\n",
       "      <td>59915.3</td>\n",
       "      <td>16590.9</td>\n",
       "      <td>67390.2</td>\n",
       "    </tr>\n",
       "    <tr>\n",
       "      <th>2005</th>\n",
       "      <td>50728.4</td>\n",
       "      <td>47035.3</td>\n",
       "      <td>61726.0</td>\n",
       "      <td>16943.2</td>\n",
       "      <td>69340.2</td>\n",
       "    </tr>\n",
       "    <tr>\n",
       "      <th>2006</th>\n",
       "      <td>51074.9</td>\n",
       "      <td>49954.1</td>\n",
       "      <td>64640.5</td>\n",
       "      <td>20324.9</td>\n",
       "      <td>71305.6</td>\n",
       "    </tr>\n",
       "    <tr>\n",
       "      <th>2007</th>\n",
       "      <td>51530.9</td>\n",
       "      <td>53814.7</td>\n",
       "      <td>70893.2</td>\n",
       "      <td>23105.2</td>\n",
       "      <td>74513.9</td>\n",
       "    </tr>\n",
       "    <tr>\n",
       "      <th>2008</th>\n",
       "      <td>51260.9</td>\n",
       "      <td>60195.9</td>\n",
       "      <td>79367.8</td>\n",
       "      <td>27681.5</td>\n",
       "      <td>79056.7</td>\n",
       "    </tr>\n",
       "    <tr>\n",
       "      <th>2009</th>\n",
       "      <td>50948.8</td>\n",
       "      <td>59468.1</td>\n",
       "      <td>90539.1</td>\n",
       "      <td>29265.2</td>\n",
       "      <td>77019.4</td>\n",
       "    </tr>\n",
       "    <tr>\n",
       "      <th>2010</th>\n",
       "      <td>46182.5</td>\n",
       "      <td>66914.2</td>\n",
       "      <td>88325.4</td>\n",
       "      <td>31486.9</td>\n",
       "      <td>95467.4</td>\n",
       "    </tr>\n",
       "    <tr>\n",
       "      <th>2011</th>\n",
       "      <td>45300.0</td>\n",
       "      <td>72712.1</td>\n",
       "      <td>89684.7</td>\n",
       "      <td>32394.3</td>\n",
       "      <td>101736.9</td>\n",
       "    </tr>\n",
       "    <tr>\n",
       "      <th>2012</th>\n",
       "      <td>45584.5</td>\n",
       "      <td>73203.5</td>\n",
       "      <td>85873.6</td>\n",
       "      <td>31502.9</td>\n",
       "      <td>105392.6</td>\n",
       "    </tr>\n",
       "    <tr>\n",
       "      <th>2013</th>\n",
       "      <td>57150.2</td>\n",
       "      <td>75738.5</td>\n",
       "      <td>84934.0</td>\n",
       "      <td>31841.0</td>\n",
       "      <td>96818.2</td>\n",
       "    </tr>\n",
       "    <tr>\n",
       "      <th>2014</th>\n",
       "      <td>64961.7</td>\n",
       "      <td>78842.9</td>\n",
       "      <td>80125.7</td>\n",
       "      <td>34039.0</td>\n",
       "      <td>99079.6</td>\n",
       "    </tr>\n",
       "    <tr>\n",
       "      <th>2015</th>\n",
       "      <td>76807.9</td>\n",
       "      <td>81015.5</td>\n",
       "      <td>81977.7</td>\n",
       "      <td>36437.8</td>\n",
       "      <td>105995.8</td>\n",
       "    </tr>\n",
       "    <tr>\n",
       "      <th>2016</th>\n",
       "      <td>95396.5</td>\n",
       "      <td>90231.9</td>\n",
       "      <td>78976.2</td>\n",
       "      <td>39156.9</td>\n",
       "      <td>110057.7</td>\n",
       "    </tr>\n",
       "    <tr>\n",
       "      <th>2017</th>\n",
       "      <td>113527.1</td>\n",
       "      <td>101983.1</td>\n",
       "      <td>77880.0</td>\n",
       "      <td>38900.3</td>\n",
       "      <td>134070.6</td>\n",
       "    </tr>\n",
       "    <tr>\n",
       "      <th>2018</th>\n",
       "      <td>110881.5</td>\n",
       "      <td>99450.8</td>\n",
       "      <td>78165.0</td>\n",
       "      <td>40456.5</td>\n",
       "      <td>127831.9</td>\n",
       "    </tr>\n",
       "    <tr>\n",
       "      <th>2019</th>\n",
       "      <td>100390.6</td>\n",
       "      <td>103336.7</td>\n",
       "      <td>85259.6</td>\n",
       "      <td>44268.1</td>\n",
       "      <td>115745.4</td>\n",
       "    </tr>\n",
       "  </tbody>\n",
       "</table>\n",
       "</div>"
      ],
      "text/plain": [
       "Category                      CS                                          \\\n",
       "SubCategory1           Buildings                        CivilEngineering   \n",
       "SubCategory2 ResidentialBuilding NonResidentialBuilding              NaN   \n",
       "year                                                                       \n",
       "1970                       165.9                  145.4            180.9   \n",
       "1971                       166.0                  132.7            199.6   \n",
       "1972                       155.5                  148.7            231.6   \n",
       "1973                       236.7                  250.8            276.8   \n",
       "1974                       511.3                  320.0            367.7   \n",
       "1975                       627.9                  399.0            553.9   \n",
       "1976                       705.9                  539.9            727.0   \n",
       "1977                       967.4                  693.3           1107.9   \n",
       "1978                      1568.4                 1123.7           1458.3   \n",
       "1979                      1812.7                 1554.6           2119.6   \n",
       "1980                      2228.1                 1844.9           2942.4   \n",
       "1981                      2035.0                 1815.4           3575.8   \n",
       "1982                      2667.1                 2135.4           4320.6   \n",
       "1983                      3668.8                 2940.6           4897.5   \n",
       "1984                      3469.0                 3745.7           5501.5   \n",
       "1985                      3589.5                 3679.6           6422.4   \n",
       "1986                      4162.9                 3926.4           6205.9   \n",
       "1987                      4711.0                 5214.9           7248.0   \n",
       "1988                      6292.9                 6939.0           8228.3   \n",
       "1989                      8138.9                 9301.5          10030.3   \n",
       "1990                     14757.2                12929.8          13668.2   \n",
       "1991                     19563.2                15570.5          19369.7   \n",
       "1992                     20147.7                16198.2          23188.4   \n",
       "1993                     23303.1                20117.3          24849.9   \n",
       "1994                     24514.0                22960.9          28331.8   \n",
       "1995                     28785.0                28754.1          32100.6   \n",
       "1996                     30947.9                30387.3          40174.7   \n",
       "1997                     31322.7                33523.1          45699.4   \n",
       "1998                     28282.5                27543.4          44868.6   \n",
       "1999                     26538.1                22022.4          47869.4   \n",
       "2000                     24556.9                26181.8          47803.8   \n",
       "2001                     30158.5                28538.2          50877.4   \n",
       "2002                     36217.7                35346.7          50707.7   \n",
       "2003                     43135.9                43052.1          56099.7   \n",
       "2004                     47406.8                47413.1          59915.3   \n",
       "2005                     50728.4                47035.3          61726.0   \n",
       "2006                     51074.9                49954.1          64640.5   \n",
       "2007                     51530.9                53814.7          70893.2   \n",
       "2008                     51260.9                60195.9          79367.8   \n",
       "2009                     50948.8                59468.1          90539.1   \n",
       "2010                     46182.5                66914.2          88325.4   \n",
       "2011                     45300.0                72712.1          89684.7   \n",
       "2012                     45584.5                73203.5          85873.6   \n",
       "2013                     57150.2                75738.5          84934.0   \n",
       "2014                     64961.7                78842.9          80125.7   \n",
       "2015                     76807.9                81015.5          81977.7   \n",
       "2016                     95396.5                90231.9          78976.2   \n",
       "2017                    113527.1               101983.1          77880.0   \n",
       "2018                    110881.5                99450.8          78165.0   \n",
       "2019                    100390.6               103336.7          85259.6   \n",
       "\n",
       "Category                     FI                      \n",
       "SubCategory1 TransportEquipment Machinery&Equipment  \n",
       "SubCategory2                NaN                 NaN  \n",
       "year                                                 \n",
       "1970                       89.6               124.4  \n",
       "1971                      120.6               164.0  \n",
       "1972                      159.7               196.1  \n",
       "1973                      225.3               324.8  \n",
       "1974                      461.7               447.4  \n",
       "1975                      579.7               645.8  \n",
       "1976                      734.4              1019.9  \n",
       "1977                      822.1              1718.7  \n",
       "1978                     1173.6              2900.7  \n",
       "1979                     1372.2              4031.4  \n",
       "1980                     1730.1              3939.9  \n",
       "1981                     2245.3              4267.1  \n",
       "1982                     2282.7              4910.5  \n",
       "1983                     2736.9              5576.4  \n",
       "1984                     3224.1              6400.5  \n",
       "1985                     3640.8              7328.0  \n",
       "1986                     4019.5             10218.5  \n",
       "1987                     4720.8             12628.2  \n",
       "1988                     5626.9             14780.3  \n",
       "1989                     6560.8             16552.7  \n",
       "1990                     8630.6             20066.2  \n",
       "1991                     9931.3             24209.2  \n",
       "1992                    10956.4             25287.2  \n",
       "1993                    11549.5             26808.6  \n",
       "1994                    14496.1             34750.8  \n",
       "1995                    14427.6             44032.8  \n",
       "1996                    16686.5             49572.2  \n",
       "1997                    15197.9             48202.7  \n",
       "1998                     8982.3             35262.2  \n",
       "1999                    14419.6             44147.8  \n",
       "2000                    19208.4             61765.1  \n",
       "2001                    17677.2             58171.8  \n",
       "2002                    19904.8             60284.5  \n",
       "2003                    18260.9             62477.8  \n",
       "2004                    16590.9             67390.2  \n",
       "2005                    16943.2             69340.2  \n",
       "2006                    20324.9             71305.6  \n",
       "2007                    23105.2             74513.9  \n",
       "2008                    27681.5             79056.7  \n",
       "2009                    29265.2             77019.4  \n",
       "2010                    31486.9             95467.4  \n",
       "2011                    32394.3            101736.9  \n",
       "2012                    31502.9            105392.6  \n",
       "2013                    31841.0             96818.2  \n",
       "2014                    34039.0             99079.6  \n",
       "2015                    36437.8            105995.8  \n",
       "2016                    39156.9            110057.7  \n",
       "2017                    38900.3            134070.6  \n",
       "2018                    40456.5            127831.9  \n",
       "2019                    44268.1            115745.4  "
      ]
     },
     "execution_count": 75,
     "metadata": {},
     "output_type": "execute_result"
    }
   ],
   "source": [
    "gfcf"
   ]
  },
  {
   "cell_type": "code",
   "execution_count": 49,
   "metadata": {},
   "outputs": [],
   "source": [
    "# unstack and create tidy format\n",
    "gfcf =\\\n",
    "(gfcf\n",
    " .unstack()\n",
    " .reorder_levels([3,0,1,2])\n",
    " .sort_index(0)\n",
    " .to_frame()\n",
    " .rename(columns={0:'Value'})\n",
    ")\n",
    "\n",
    "gfcf_relative_price =\\\n",
    "(gfcf_relative_price\n",
    " .unstack()\n",
    " .reorder_levels([3,0,1,2])\n",
    " .sort_index(0)\n",
    " .to_frame()\n",
    " .rename(columns={0:'RelativePrice'})\n",
    ")\n",
    "\n",
    "gfcf_share =\\\n",
    "(gfcf_share\n",
    " .unstack()\n",
    " .reorder_levels([3,0,1,2])\n",
    " .sort_index(0)\n",
    " .to_frame()\n",
    " .rename(columns={0:'Share'})\n",
    ")"
   ]
  },
  {
   "cell_type": "code",
   "execution_count": 50,
   "metadata": {},
   "outputs": [],
   "source": [
    "discount_rate =\\\n",
    "(discount_rate\n",
    " .assign(date=lambda x: pd.to_datetime(x.date))\n",
    " .assign(year=lambda x: x.date.dt.year,\n",
    "         month=lambda x: x.date.dt.month)\n",
    " .query('month==12')\n",
    " .set_index('year')\n",
    " .rename_axis('Year', axis=0)\n",
    " ['DiscountRate']\n",
    " .apply(lambda x: x/100)\n",
    ")"
   ]
  },
  {
   "cell_type": "code",
   "execution_count": 51,
   "metadata": {},
   "outputs": [],
   "source": [
    "pi =\\\n",
    "(gdp_deflator\n",
    " .apply(np.log)\n",
    " .diff()\n",
    ")"
   ]
  },
  {
   "cell_type": "code",
   "execution_count": 52,
   "metadata": {},
   "outputs": [],
   "source": [
    "ls_oecd =\\\n",
    "ls_oecd.set_index('year')['LS']"
   ]
  },
  {
   "cell_type": "code",
   "execution_count": 53,
   "metadata": {},
   "outputs": [
    {
     "ename": "ValueError",
     "evalue": "cannot join with no overlapping index names",
     "output_type": "error",
     "traceback": [
      "\u001b[1;31m---------------------------------------------------------------------------\u001b[0m",
      "\u001b[1;31mValueError\u001b[0m                                Traceback (most recent call last)",
      "\u001b[1;32m<ipython-input-53-5ef6350abf96>\u001b[0m in \u001b[0;36m<module>\u001b[1;34m\u001b[0m\n\u001b[0;32m     16\u001b[0m  \u001b[1;33m.\u001b[0m\u001b[0mjoin\u001b[0m\u001b[1;33m(\u001b[0m\u001b[0mgfcf_relative_price\u001b[0m\u001b[1;33m,\u001b[0m \u001b[0mhow\u001b[0m\u001b[1;33m=\u001b[0m\u001b[1;34m'right'\u001b[0m\u001b[1;33m)\u001b[0m\u001b[1;33m\u001b[0m\u001b[1;33m\u001b[0m\u001b[0m\n\u001b[0;32m     17\u001b[0m  \u001b[1;33m.\u001b[0m\u001b[0mjoin\u001b[0m\u001b[1;33m(\u001b[0m\u001b[0mgfcf_share\u001b[0m\u001b[1;33m,\u001b[0m \u001b[0mhow\u001b[0m\u001b[1;33m=\u001b[0m\u001b[1;34m'left'\u001b[0m\u001b[1;33m)\u001b[0m\u001b[1;33m\u001b[0m\u001b[1;33m\u001b[0m\u001b[0m\n\u001b[1;32m---> 18\u001b[1;33m  \u001b[1;33m.\u001b[0m\u001b[0mjoin\u001b[0m\u001b[1;33m(\u001b[0m\u001b[0mdiscount_rate\u001b[0m\u001b[1;33m)\u001b[0m\u001b[1;33m\u001b[0m\u001b[1;33m\u001b[0m\u001b[0m\n\u001b[0m\u001b[0;32m     19\u001b[0m  \u001b[1;33m.\u001b[0m\u001b[0mjoin\u001b[0m\u001b[1;33m(\u001b[0m\u001b[0mpi\u001b[0m\u001b[1;33m)\u001b[0m\u001b[1;33m\u001b[0m\u001b[1;33m\u001b[0m\u001b[0m\n\u001b[0;32m     20\u001b[0m  \u001b[1;33m.\u001b[0m\u001b[0mrename\u001b[0m\u001b[1;33m(\u001b[0m\u001b[0mcolumns\u001b[0m\u001b[1;33m=\u001b[0m\u001b[1;33m{\u001b[0m\u001b[1;34m'GDPDeflator'\u001b[0m\u001b[1;33m:\u001b[0m\u001b[1;34m'Pi'\u001b[0m\u001b[1;33m}\u001b[0m\u001b[1;33m)\u001b[0m\u001b[1;33m\u001b[0m\u001b[1;33m\u001b[0m\u001b[0m\n",
      "\u001b[1;32m~\\anaconda3\\lib\\site-packages\\pandas\\core\\frame.py\u001b[0m in \u001b[0;36mjoin\u001b[1;34m(self, other, on, how, lsuffix, rsuffix, sort)\u001b[0m\n\u001b[0;32m   7207\u001b[0m         \"\"\"\n\u001b[0;32m   7208\u001b[0m         return self._join_compat(\n\u001b[1;32m-> 7209\u001b[1;33m             \u001b[0mother\u001b[0m\u001b[1;33m,\u001b[0m \u001b[0mon\u001b[0m\u001b[1;33m=\u001b[0m\u001b[0mon\u001b[0m\u001b[1;33m,\u001b[0m \u001b[0mhow\u001b[0m\u001b[1;33m=\u001b[0m\u001b[0mhow\u001b[0m\u001b[1;33m,\u001b[0m \u001b[0mlsuffix\u001b[0m\u001b[1;33m=\u001b[0m\u001b[0mlsuffix\u001b[0m\u001b[1;33m,\u001b[0m \u001b[0mrsuffix\u001b[0m\u001b[1;33m=\u001b[0m\u001b[0mrsuffix\u001b[0m\u001b[1;33m,\u001b[0m \u001b[0msort\u001b[0m\u001b[1;33m=\u001b[0m\u001b[0msort\u001b[0m\u001b[1;33m\u001b[0m\u001b[1;33m\u001b[0m\u001b[0m\n\u001b[0m\u001b[0;32m   7210\u001b[0m         )\n\u001b[0;32m   7211\u001b[0m \u001b[1;33m\u001b[0m\u001b[0m\n",
      "\u001b[1;32m~\\anaconda3\\lib\\site-packages\\pandas\\core\\frame.py\u001b[0m in \u001b[0;36m_join_compat\u001b[1;34m(self, other, on, how, lsuffix, rsuffix, sort)\u001b[0m\n\u001b[0;32m   7230\u001b[0m                 \u001b[0mright_index\u001b[0m\u001b[1;33m=\u001b[0m\u001b[1;32mTrue\u001b[0m\u001b[1;33m,\u001b[0m\u001b[1;33m\u001b[0m\u001b[1;33m\u001b[0m\u001b[0m\n\u001b[0;32m   7231\u001b[0m                 \u001b[0msuffixes\u001b[0m\u001b[1;33m=\u001b[0m\u001b[1;33m(\u001b[0m\u001b[0mlsuffix\u001b[0m\u001b[1;33m,\u001b[0m \u001b[0mrsuffix\u001b[0m\u001b[1;33m)\u001b[0m\u001b[1;33m,\u001b[0m\u001b[1;33m\u001b[0m\u001b[1;33m\u001b[0m\u001b[0m\n\u001b[1;32m-> 7232\u001b[1;33m                 \u001b[0msort\u001b[0m\u001b[1;33m=\u001b[0m\u001b[0msort\u001b[0m\u001b[1;33m,\u001b[0m\u001b[1;33m\u001b[0m\u001b[1;33m\u001b[0m\u001b[0m\n\u001b[0m\u001b[0;32m   7233\u001b[0m             )\n\u001b[0;32m   7234\u001b[0m         \u001b[1;32melse\u001b[0m\u001b[1;33m:\u001b[0m\u001b[1;33m\u001b[0m\u001b[1;33m\u001b[0m\u001b[0m\n",
      "\u001b[1;32m~\\anaconda3\\lib\\site-packages\\pandas\\core\\reshape\\merge.py\u001b[0m in \u001b[0;36mmerge\u001b[1;34m(left, right, how, on, left_on, right_on, left_index, right_index, sort, suffixes, copy, indicator, validate)\u001b[0m\n\u001b[0;32m     86\u001b[0m         \u001b[0mvalidate\u001b[0m\u001b[1;33m=\u001b[0m\u001b[0mvalidate\u001b[0m\u001b[1;33m,\u001b[0m\u001b[1;33m\u001b[0m\u001b[1;33m\u001b[0m\u001b[0m\n\u001b[0;32m     87\u001b[0m     )\n\u001b[1;32m---> 88\u001b[1;33m     \u001b[1;32mreturn\u001b[0m \u001b[0mop\u001b[0m\u001b[1;33m.\u001b[0m\u001b[0mget_result\u001b[0m\u001b[1;33m(\u001b[0m\u001b[1;33m)\u001b[0m\u001b[1;33m\u001b[0m\u001b[1;33m\u001b[0m\u001b[0m\n\u001b[0m\u001b[0;32m     89\u001b[0m \u001b[1;33m\u001b[0m\u001b[0m\n\u001b[0;32m     90\u001b[0m \u001b[1;33m\u001b[0m\u001b[0m\n",
      "\u001b[1;32m~\\anaconda3\\lib\\site-packages\\pandas\\core\\reshape\\merge.py\u001b[0m in \u001b[0;36mget_result\u001b[1;34m(self)\u001b[0m\n\u001b[0;32m    641\u001b[0m             \u001b[0mself\u001b[0m\u001b[1;33m.\u001b[0m\u001b[0mleft\u001b[0m\u001b[1;33m,\u001b[0m \u001b[0mself\u001b[0m\u001b[1;33m.\u001b[0m\u001b[0mright\u001b[0m \u001b[1;33m=\u001b[0m \u001b[0mself\u001b[0m\u001b[1;33m.\u001b[0m\u001b[0m_indicator_pre_merge\u001b[0m\u001b[1;33m(\u001b[0m\u001b[0mself\u001b[0m\u001b[1;33m.\u001b[0m\u001b[0mleft\u001b[0m\u001b[1;33m,\u001b[0m \u001b[0mself\u001b[0m\u001b[1;33m.\u001b[0m\u001b[0mright\u001b[0m\u001b[1;33m)\u001b[0m\u001b[1;33m\u001b[0m\u001b[1;33m\u001b[0m\u001b[0m\n\u001b[0;32m    642\u001b[0m \u001b[1;33m\u001b[0m\u001b[0m\n\u001b[1;32m--> 643\u001b[1;33m         \u001b[0mjoin_index\u001b[0m\u001b[1;33m,\u001b[0m \u001b[0mleft_indexer\u001b[0m\u001b[1;33m,\u001b[0m \u001b[0mright_indexer\u001b[0m \u001b[1;33m=\u001b[0m \u001b[0mself\u001b[0m\u001b[1;33m.\u001b[0m\u001b[0m_get_join_info\u001b[0m\u001b[1;33m(\u001b[0m\u001b[1;33m)\u001b[0m\u001b[1;33m\u001b[0m\u001b[1;33m\u001b[0m\u001b[0m\n\u001b[0m\u001b[0;32m    644\u001b[0m \u001b[1;33m\u001b[0m\u001b[0m\n\u001b[0;32m    645\u001b[0m         \u001b[0mldata\u001b[0m\u001b[1;33m,\u001b[0m \u001b[0mrdata\u001b[0m \u001b[1;33m=\u001b[0m \u001b[0mself\u001b[0m\u001b[1;33m.\u001b[0m\u001b[0mleft\u001b[0m\u001b[1;33m.\u001b[0m\u001b[0m_data\u001b[0m\u001b[1;33m,\u001b[0m \u001b[0mself\u001b[0m\u001b[1;33m.\u001b[0m\u001b[0mright\u001b[0m\u001b[1;33m.\u001b[0m\u001b[0m_data\u001b[0m\u001b[1;33m\u001b[0m\u001b[1;33m\u001b[0m\u001b[0m\n",
      "\u001b[1;32m~\\anaconda3\\lib\\site-packages\\pandas\\core\\reshape\\merge.py\u001b[0m in \u001b[0;36m_get_join_info\u001b[1;34m(self)\u001b[0m\n\u001b[0;32m    848\u001b[0m         \u001b[1;32mif\u001b[0m \u001b[0mself\u001b[0m\u001b[1;33m.\u001b[0m\u001b[0mleft_index\u001b[0m \u001b[1;32mand\u001b[0m \u001b[0mself\u001b[0m\u001b[1;33m.\u001b[0m\u001b[0mright_index\u001b[0m \u001b[1;32mand\u001b[0m \u001b[0mself\u001b[0m\u001b[1;33m.\u001b[0m\u001b[0mhow\u001b[0m \u001b[1;33m!=\u001b[0m \u001b[1;34m\"asof\"\u001b[0m\u001b[1;33m:\u001b[0m\u001b[1;33m\u001b[0m\u001b[1;33m\u001b[0m\u001b[0m\n\u001b[0;32m    849\u001b[0m             join_index, left_indexer, right_indexer = left_ax.join(\n\u001b[1;32m--> 850\u001b[1;33m                 \u001b[0mright_ax\u001b[0m\u001b[1;33m,\u001b[0m \u001b[0mhow\u001b[0m\u001b[1;33m=\u001b[0m\u001b[0mself\u001b[0m\u001b[1;33m.\u001b[0m\u001b[0mhow\u001b[0m\u001b[1;33m,\u001b[0m \u001b[0mreturn_indexers\u001b[0m\u001b[1;33m=\u001b[0m\u001b[1;32mTrue\u001b[0m\u001b[1;33m,\u001b[0m \u001b[0msort\u001b[0m\u001b[1;33m=\u001b[0m\u001b[0mself\u001b[0m\u001b[1;33m.\u001b[0m\u001b[0msort\u001b[0m\u001b[1;33m\u001b[0m\u001b[1;33m\u001b[0m\u001b[0m\n\u001b[0m\u001b[0;32m    851\u001b[0m             )\n\u001b[0;32m    852\u001b[0m         \u001b[1;32melif\u001b[0m \u001b[0mself\u001b[0m\u001b[1;33m.\u001b[0m\u001b[0mright_index\u001b[0m \u001b[1;32mand\u001b[0m \u001b[0mself\u001b[0m\u001b[1;33m.\u001b[0m\u001b[0mhow\u001b[0m \u001b[1;33m==\u001b[0m \u001b[1;34m\"left\"\u001b[0m\u001b[1;33m:\u001b[0m\u001b[1;33m\u001b[0m\u001b[1;33m\u001b[0m\u001b[0m\n",
      "\u001b[1;32m~\\anaconda3\\lib\\site-packages\\pandas\\core\\indexes\\base.py\u001b[0m in \u001b[0;36mjoin\u001b[1;34m(self, other, how, level, return_indexers, sort)\u001b[0m\n\u001b[0;32m   3255\u001b[0m                 \u001b[1;32mpass\u001b[0m\u001b[1;33m\u001b[0m\u001b[1;33m\u001b[0m\u001b[0m\n\u001b[0;32m   3256\u001b[0m             \u001b[1;32melse\u001b[0m\u001b[1;33m:\u001b[0m\u001b[1;33m\u001b[0m\u001b[1;33m\u001b[0m\u001b[0m\n\u001b[1;32m-> 3257\u001b[1;33m                 \u001b[1;32mreturn\u001b[0m \u001b[0mself\u001b[0m\u001b[1;33m.\u001b[0m\u001b[0m_join_multi\u001b[0m\u001b[1;33m(\u001b[0m\u001b[0mother\u001b[0m\u001b[1;33m,\u001b[0m \u001b[0mhow\u001b[0m\u001b[1;33m=\u001b[0m\u001b[0mhow\u001b[0m\u001b[1;33m,\u001b[0m \u001b[0mreturn_indexers\u001b[0m\u001b[1;33m=\u001b[0m\u001b[0mreturn_indexers\u001b[0m\u001b[1;33m)\u001b[0m\u001b[1;33m\u001b[0m\u001b[1;33m\u001b[0m\u001b[0m\n\u001b[0m\u001b[0;32m   3258\u001b[0m \u001b[1;33m\u001b[0m\u001b[0m\n\u001b[0;32m   3259\u001b[0m         \u001b[1;31m# join on the level\u001b[0m\u001b[1;33m\u001b[0m\u001b[1;33m\u001b[0m\u001b[1;33m\u001b[0m\u001b[0m\n",
      "\u001b[1;32m~\\anaconda3\\lib\\site-packages\\pandas\\core\\indexes\\base.py\u001b[0m in \u001b[0;36m_join_multi\u001b[1;34m(self, other, how, return_indexers)\u001b[0m\n\u001b[0;32m   3359\u001b[0m         \u001b[1;31m# need at least 1 in common\u001b[0m\u001b[1;33m\u001b[0m\u001b[1;33m\u001b[0m\u001b[1;33m\u001b[0m\u001b[0m\n\u001b[0;32m   3360\u001b[0m         \u001b[1;32mif\u001b[0m \u001b[1;32mnot\u001b[0m \u001b[0moverlap\u001b[0m\u001b[1;33m:\u001b[0m\u001b[1;33m\u001b[0m\u001b[1;33m\u001b[0m\u001b[0m\n\u001b[1;32m-> 3361\u001b[1;33m             \u001b[1;32mraise\u001b[0m \u001b[0mValueError\u001b[0m\u001b[1;33m(\u001b[0m\u001b[1;34m\"cannot join with no overlapping index names\"\u001b[0m\u001b[1;33m)\u001b[0m\u001b[1;33m\u001b[0m\u001b[1;33m\u001b[0m\u001b[0m\n\u001b[0m\u001b[0;32m   3362\u001b[0m \u001b[1;33m\u001b[0m\u001b[0m\n\u001b[0;32m   3363\u001b[0m         \u001b[0mself_is_mi\u001b[0m \u001b[1;33m=\u001b[0m \u001b[0misinstance\u001b[0m\u001b[1;33m(\u001b[0m\u001b[0mself\u001b[0m\u001b[1;33m,\u001b[0m \u001b[0mMultiIndex\u001b[0m\u001b[1;33m)\u001b[0m\u001b[1;33m\u001b[0m\u001b[1;33m\u001b[0m\u001b[0m\n",
      "\u001b[1;31mValueError\u001b[0m: cannot join with no overlapping index names"
     ]
    }
   ],
   "source": [
    "# Merge\n",
    "\n",
    "def add_delta(df):\n",
    "    df.loc[lambda x: x.index.get_level_values(3) == 'NonResidentialBuilding','Depreciation'] = 0.013\n",
    "    df.loc[lambda x: x.index.get_level_values(3) == 'ResidentialBuilding','Depreciation'] = 0.029\n",
    "    df.loc[lambda x: x.index.get_level_values(2) == 'CivilEngineering','Depreciation'] = 0.021\n",
    "    df.loc[lambda x: x.index.get_level_values(2) == 'Machinery&Equipment','Depreciation'] = 0.138\n",
    "    df.loc[lambda x: x.index.get_level_values(2) == 'TransportEquipment','Depreciation'] = 0.182\n",
    "    return df\n",
    "\n",
    "idx = pd.IndexSlice\n",
    "\n",
    "\n",
    "gfcf_info =\\\n",
    "(gfcf\n",
    " .join(gfcf_relative_price, how='right')\n",
    " .join(gfcf_share, how='left')\n",
    " .join(discount_rate)\n",
    " .join(pi)\n",
    " .rename(columns={'GDPDeflator':'Pi'})\n",
    " .pipe(add_delta)\n",
    " .join(ls_oecd)\n",
    ")"
   ]
  },
  {
   "cell_type": "code",
   "execution_count": null,
   "metadata": {},
   "outputs": [],
   "source": [
    "#add period\n",
    "gfcf_info =\\\n",
    "(gfcf_info\n",
    " .reset_index('year')\n",
    " .assign(period=lambda x: x.year.apply(lambda x: 1 if (x>=1980) & (x<1990) else \n",
    "                                       (2 if (x>=1990) & (x<2000) else \n",
    "                                       (3 if (x>=2000) & (x<2010) else \n",
    "                                        4))))\n",
    " .set_index(['year', 'period'], append=True)\n",
    " .reorder_levels([4,3,0,1,2])\n",
    " .sort_index(0)\n",
    ")"
   ]
  },
  {
   "cell_type": "code",
   "execution_count": null,
   "metadata": {},
   "outputs": [],
   "source": []
  },
  {
   "cell_type": "markdown",
   "metadata": {},
   "source": [
    "## Process Data"
   ]
  },
  {
   "cell_type": "markdown",
   "metadata": {},
   "source": [
    "### Capital"
   ]
  },
  {
   "cell_type": "code",
   "execution_count": null,
   "metadata": {},
   "outputs": [],
   "source": [
    "wrc =\\\n",
    "(gfcf_info\n",
    " .assign(RealInterestRate=lambda x: x.DiscountRate - x.Pi,\n",
    "         rent=lambda x: x.RealInterestRate + x.Depreciation,\n",
    "         WeightedRentChange=lambda x: x.Share*x.RelativePrice*x.rent\n",
    "        )\n",
    " .groupby('year')\n",
    " ['WeightedRentChange']\n",
    " .sum()\n",
    " .to_frame()\n",
    ")"
   ]
  },
  {
   "cell_type": "code",
   "execution_count": 54,
   "metadata": {},
   "outputs": [],
   "source": [
    "# average LS\n",
    "avgls =\\\n",
    "(gfcf_info\n",
    " .groupby('period')\n",
    " .agg({'LS':'mean'})\n",
    " .rename(columns={'LS':'avgLS'})\n",
    " .iloc[:,0]\n",
    ")"
   ]
  },
  {
   "cell_type": "code",
   "execution_count": 55,
   "metadata": {},
   "outputs": [],
   "source": [
    "dual =\\\n",
    "(wwc\n",
    " .join(wrc)\n",
    " .join(ls_oecd)\n",
    " .fillna(method='ffill')\n",
    " .assign(LS=lambda x: x.LS/100,\n",
    "         KS=lambda x: 1-x.LS,\n",
    "         Dual=lambda x: x.LS*x.WeightedWageChange + x.KS*x.WeightedRentChange)\n",
    ")"
   ]
  },
  {
   "cell_type": "code",
   "execution_count": 56,
   "metadata": {},
   "outputs": [],
   "source": [
    "dual.to_csv('./output/KRDual.csv')"
   ]
  },
  {
   "cell_type": "markdown",
   "metadata": {},
   "source": [
    "## Visualize"
   ]
  },
  {
   "cell_type": "code",
   "execution_count": 57,
   "metadata": {},
   "outputs": [],
   "source": [
    "wdlnh = pd.read_csv('./data/KRWdlnH.csv')\n",
    "wdlnh.columns = ['year', 'WeightedManHourChange']"
   ]
  },
  {
   "cell_type": "code",
   "execution_count": 58,
   "metadata": {},
   "outputs": [],
   "source": [
    "plot_df =\\\n",
    "(dual.reset_index().merge(wdlnh, on='year').drop(columns=['LS', 'KS'])\n",
    " .melt(id_vars=['year'])\n",
    ")"
   ]
  },
  {
   "cell_type": "code",
   "execution_count": 59,
   "metadata": {},
   "outputs": [
    {
     "data": {
      "text/html": [
       "<div>\n",
       "<style scoped>\n",
       "    .dataframe tbody tr th:only-of-type {\n",
       "        vertical-align: middle;\n",
       "    }\n",
       "\n",
       "    .dataframe tbody tr th {\n",
       "        vertical-align: top;\n",
       "    }\n",
       "\n",
       "    .dataframe thead th {\n",
       "        text-align: right;\n",
       "    }\n",
       "</style>\n",
       "<table border=\"1\" class=\"dataframe\">\n",
       "  <thead>\n",
       "    <tr style=\"text-align: right;\">\n",
       "      <th></th>\n",
       "      <th>year</th>\n",
       "      <th>variable</th>\n",
       "      <th>value</th>\n",
       "    </tr>\n",
       "  </thead>\n",
       "  <tbody>\n",
       "    <tr>\n",
       "      <th>0</th>\n",
       "      <td>1994</td>\n",
       "      <td>WeightedWageChange</td>\n",
       "      <td>0.002666</td>\n",
       "    </tr>\n",
       "    <tr>\n",
       "      <th>1</th>\n",
       "      <td>1995</td>\n",
       "      <td>WeightedWageChange</td>\n",
       "      <td>0.031186</td>\n",
       "    </tr>\n",
       "    <tr>\n",
       "      <th>2</th>\n",
       "      <td>1996</td>\n",
       "      <td>WeightedWageChange</td>\n",
       "      <td>0.100431</td>\n",
       "    </tr>\n",
       "    <tr>\n",
       "      <th>3</th>\n",
       "      <td>1997</td>\n",
       "      <td>WeightedWageChange</td>\n",
       "      <td>0.026909</td>\n",
       "    </tr>\n",
       "    <tr>\n",
       "      <th>4</th>\n",
       "      <td>1998</td>\n",
       "      <td>WeightedWageChange</td>\n",
       "      <td>-0.054065</td>\n",
       "    </tr>\n",
       "  </tbody>\n",
       "</table>\n",
       "</div>"
      ],
      "text/plain": [
       "   year            variable     value\n",
       "0  1994  WeightedWageChange  0.002666\n",
       "1  1995  WeightedWageChange  0.031186\n",
       "2  1996  WeightedWageChange  0.100431\n",
       "3  1997  WeightedWageChange  0.026909\n",
       "4  1998  WeightedWageChange -0.054065"
      ]
     },
     "execution_count": 59,
     "metadata": {},
     "output_type": "execute_result"
    }
   ],
   "source": [
    "plot_df.head()"
   ]
  },
  {
   "cell_type": "code",
   "execution_count": 60,
   "metadata": {},
   "outputs": [
    {
     "data": {
      "application/vnd.plotly.v1+json": {
       "config": {
        "plotlyServerURL": "https://plot.ly"
       },
       "data": [
        {
         "hovertemplate": "variable=WeightedWageChange<br>year=%{x}<br>value=%{y}<extra></extra>",
         "legendgroup": "WeightedWageChange",
         "line": {
          "color": "#636efa",
          "dash": "solid"
         },
         "mode": "lines",
         "name": "WeightedWageChange",
         "orientation": "v",
         "showlegend": true,
         "type": "scatter",
         "x": [
          1994,
          1995,
          1996,
          1997,
          1998,
          1999,
          2001,
          2002,
          2003,
          2004,
          2005,
          2006,
          2007,
          2008,
          2010,
          2011,
          2012,
          2013,
          2014,
          2015,
          2016,
          2017,
          2018,
          2019
         ],
         "xaxis": "x",
         "y": [
          0.002665599350686289,
          0.031186087437847555,
          0.10043147261586974,
          0.026908984360946908,
          -0.05406525347594731,
          0.021358562561683826,
          0.021210808353106767,
          0.09292301481352556,
          0.03613726518085048,
          -0.03377224865530009,
          0.10096404356514316,
          0.04948416782584087,
          0.04762523610819682,
          0.047394529774574624,
          -0.053141929712903685,
          -0.07521132104628613,
          -0.05733143126329394,
          -0.08258953811438167,
          -0.031122154892369164,
          0.002924631286949274,
          -0.05840855046372347,
          -0.06506316424005218,
          -0.12223444842241166,
          -0.04340891352903221
         ],
         "yaxis": "y"
        },
        {
         "hovertemplate": "variable=WeightedRentChange<br>year=%{x}<br>value=%{y}<extra></extra>",
         "legendgroup": "WeightedRentChange",
         "line": {
          "color": "#EF553B",
          "dash": "solid"
         },
         "mode": "lines",
         "name": "WeightedRentChange",
         "orientation": "v",
         "showlegend": true,
         "type": "scatter",
         "x": [
          1994,
          1995,
          1996,
          1997,
          1998,
          1999,
          2001,
          2002,
          2003,
          2004,
          2005,
          2006,
          2007,
          2008,
          2010,
          2011,
          2012,
          2013,
          2014,
          2015,
          2016,
          2017,
          2018,
          2019
         ],
         "xaxis": "x",
         "y": [
          0.030259523557236212,
          0.03609186667440151,
          0.05749211544462665,
          0.057057469673363836,
          0.03160736344317254,
          0.08814727987203143,
          0.045735704188141976,
          0.047954464570587385,
          0.040405366592032116,
          0.03661300623989941,
          0.054992796250785375,
          0.07554173404945448,
          0.054638923607599546,
          0.0395343943503535,
          0.03596622095121435,
          0.05296901651294106,
          0.05042202888623203,
          0.04843043931529416,
          0.0494524386959639,
          0.023996407322046588,
          0.03265681309894483,
          0.029650041826186777,
          0.046975111444942534,
          0.06428235537400359
         ],
         "yaxis": "y"
        },
        {
         "hovertemplate": "variable=Dual<br>year=%{x}<br>value=%{y}<extra></extra>",
         "legendgroup": "Dual",
         "line": {
          "color": "#00cc96",
          "dash": "solid"
         },
         "mode": "lines",
         "name": "Dual",
         "orientation": "v",
         "showlegend": true,
         "type": "scatter",
         "x": [
          1994,
          1995,
          1996,
          1997,
          1998,
          1999,
          2001,
          2002,
          2003,
          2004,
          2005,
          2006,
          2007,
          2008,
          2010,
          2011,
          2012,
          2013,
          2014,
          2015,
          2016,
          2017,
          2018,
          2019
         ],
         "xaxis": "x",
         "y": [
          0.008151312597895482,
          0.03212545860485775,
          0.0922152932745604,
          0.033095076690988455,
          -0.03371387582406852,
          0.03838817271137537,
          0.02736816677661426,
          0.08180824707387012,
          0.03723770609712823,
          -0.015052430711959516,
          0.08854815115668012,
          0.05616895371591542,
          0.049417001742469865,
          0.04537639087855945,
          -0.027718884233602144,
          -0.03500997949741102,
          -0.02232644932042526,
          -0.03936735120910703,
          -0.004229049161247243,
          0.009772905186762533,
          -0.02961203057951272,
          -0.03529210329992833,
          -0.06920196755941779,
          -0.009657066637586986
         ],
         "yaxis": "y"
        },
        {
         "hovertemplate": "variable=WeightedManHourChange<br>year=%{x}<br>value=%{y}<extra></extra>",
         "legendgroup": "WeightedManHourChange",
         "line": {
          "color": "#ab63fa",
          "dash": "solid"
         },
         "mode": "lines",
         "name": "WeightedManHourChange",
         "orientation": "v",
         "showlegend": true,
         "type": "scatter",
         "x": [
          1994,
          1995,
          1996,
          1997,
          1998,
          1999,
          2001,
          2002,
          2003,
          2004,
          2005,
          2006,
          2007,
          2008,
          2010,
          2011,
          2012,
          2013,
          2014,
          2015,
          2016,
          2017,
          2018,
          2019
         ],
         "xaxis": "x",
         "y": [
          0.005217416425575579,
          0.07493661564945255,
          -0.001863446444019378,
          0.006877818851025869,
          -0.07020548858253542,
          0.17464830931572078,
          0.07673673047823737,
          0.04570726667158972,
          0.004662058363350137,
          0.0609132731456214,
          0.003042542819264227,
          0.028722001844736413,
          0.007262813765443259,
          0.03831607826997333,
          0.06280392544217933,
          0.10395694394958986,
          0.08617919472465774,
          0.051439711083799716,
          0.1041076002162905,
          0.04611076095227462,
          0.08484057671692641,
          0.04435909415778108,
          0.059787213512784224,
          0.06541613519356097
         ],
         "yaxis": "y"
        }
       ],
       "layout": {
        "legend": {
         "title": {
          "text": "variable"
         },
         "tracegroupgap": 0
        },
        "margin": {
         "t": 60
        },
        "template": {
         "data": {
          "bar": [
           {
            "error_x": {
             "color": "#2a3f5f"
            },
            "error_y": {
             "color": "#2a3f5f"
            },
            "marker": {
             "line": {
              "color": "#E5ECF6",
              "width": 0.5
             }
            },
            "type": "bar"
           }
          ],
          "barpolar": [
           {
            "marker": {
             "line": {
              "color": "#E5ECF6",
              "width": 0.5
             }
            },
            "type": "barpolar"
           }
          ],
          "carpet": [
           {
            "aaxis": {
             "endlinecolor": "#2a3f5f",
             "gridcolor": "white",
             "linecolor": "white",
             "minorgridcolor": "white",
             "startlinecolor": "#2a3f5f"
            },
            "baxis": {
             "endlinecolor": "#2a3f5f",
             "gridcolor": "white",
             "linecolor": "white",
             "minorgridcolor": "white",
             "startlinecolor": "#2a3f5f"
            },
            "type": "carpet"
           }
          ],
          "choropleth": [
           {
            "colorbar": {
             "outlinewidth": 0,
             "ticks": ""
            },
            "type": "choropleth"
           }
          ],
          "contour": [
           {
            "colorbar": {
             "outlinewidth": 0,
             "ticks": ""
            },
            "colorscale": [
             [
              0,
              "#0d0887"
             ],
             [
              0.1111111111111111,
              "#46039f"
             ],
             [
              0.2222222222222222,
              "#7201a8"
             ],
             [
              0.3333333333333333,
              "#9c179e"
             ],
             [
              0.4444444444444444,
              "#bd3786"
             ],
             [
              0.5555555555555556,
              "#d8576b"
             ],
             [
              0.6666666666666666,
              "#ed7953"
             ],
             [
              0.7777777777777778,
              "#fb9f3a"
             ],
             [
              0.8888888888888888,
              "#fdca26"
             ],
             [
              1,
              "#f0f921"
             ]
            ],
            "type": "contour"
           }
          ],
          "contourcarpet": [
           {
            "colorbar": {
             "outlinewidth": 0,
             "ticks": ""
            },
            "type": "contourcarpet"
           }
          ],
          "heatmap": [
           {
            "colorbar": {
             "outlinewidth": 0,
             "ticks": ""
            },
            "colorscale": [
             [
              0,
              "#0d0887"
             ],
             [
              0.1111111111111111,
              "#46039f"
             ],
             [
              0.2222222222222222,
              "#7201a8"
             ],
             [
              0.3333333333333333,
              "#9c179e"
             ],
             [
              0.4444444444444444,
              "#bd3786"
             ],
             [
              0.5555555555555556,
              "#d8576b"
             ],
             [
              0.6666666666666666,
              "#ed7953"
             ],
             [
              0.7777777777777778,
              "#fb9f3a"
             ],
             [
              0.8888888888888888,
              "#fdca26"
             ],
             [
              1,
              "#f0f921"
             ]
            ],
            "type": "heatmap"
           }
          ],
          "heatmapgl": [
           {
            "colorbar": {
             "outlinewidth": 0,
             "ticks": ""
            },
            "colorscale": [
             [
              0,
              "#0d0887"
             ],
             [
              0.1111111111111111,
              "#46039f"
             ],
             [
              0.2222222222222222,
              "#7201a8"
             ],
             [
              0.3333333333333333,
              "#9c179e"
             ],
             [
              0.4444444444444444,
              "#bd3786"
             ],
             [
              0.5555555555555556,
              "#d8576b"
             ],
             [
              0.6666666666666666,
              "#ed7953"
             ],
             [
              0.7777777777777778,
              "#fb9f3a"
             ],
             [
              0.8888888888888888,
              "#fdca26"
             ],
             [
              1,
              "#f0f921"
             ]
            ],
            "type": "heatmapgl"
           }
          ],
          "histogram": [
           {
            "marker": {
             "colorbar": {
              "outlinewidth": 0,
              "ticks": ""
             }
            },
            "type": "histogram"
           }
          ],
          "histogram2d": [
           {
            "colorbar": {
             "outlinewidth": 0,
             "ticks": ""
            },
            "colorscale": [
             [
              0,
              "#0d0887"
             ],
             [
              0.1111111111111111,
              "#46039f"
             ],
             [
              0.2222222222222222,
              "#7201a8"
             ],
             [
              0.3333333333333333,
              "#9c179e"
             ],
             [
              0.4444444444444444,
              "#bd3786"
             ],
             [
              0.5555555555555556,
              "#d8576b"
             ],
             [
              0.6666666666666666,
              "#ed7953"
             ],
             [
              0.7777777777777778,
              "#fb9f3a"
             ],
             [
              0.8888888888888888,
              "#fdca26"
             ],
             [
              1,
              "#f0f921"
             ]
            ],
            "type": "histogram2d"
           }
          ],
          "histogram2dcontour": [
           {
            "colorbar": {
             "outlinewidth": 0,
             "ticks": ""
            },
            "colorscale": [
             [
              0,
              "#0d0887"
             ],
             [
              0.1111111111111111,
              "#46039f"
             ],
             [
              0.2222222222222222,
              "#7201a8"
             ],
             [
              0.3333333333333333,
              "#9c179e"
             ],
             [
              0.4444444444444444,
              "#bd3786"
             ],
             [
              0.5555555555555556,
              "#d8576b"
             ],
             [
              0.6666666666666666,
              "#ed7953"
             ],
             [
              0.7777777777777778,
              "#fb9f3a"
             ],
             [
              0.8888888888888888,
              "#fdca26"
             ],
             [
              1,
              "#f0f921"
             ]
            ],
            "type": "histogram2dcontour"
           }
          ],
          "mesh3d": [
           {
            "colorbar": {
             "outlinewidth": 0,
             "ticks": ""
            },
            "type": "mesh3d"
           }
          ],
          "parcoords": [
           {
            "line": {
             "colorbar": {
              "outlinewidth": 0,
              "ticks": ""
             }
            },
            "type": "parcoords"
           }
          ],
          "pie": [
           {
            "automargin": true,
            "type": "pie"
           }
          ],
          "scatter": [
           {
            "marker": {
             "colorbar": {
              "outlinewidth": 0,
              "ticks": ""
             }
            },
            "type": "scatter"
           }
          ],
          "scatter3d": [
           {
            "line": {
             "colorbar": {
              "outlinewidth": 0,
              "ticks": ""
             }
            },
            "marker": {
             "colorbar": {
              "outlinewidth": 0,
              "ticks": ""
             }
            },
            "type": "scatter3d"
           }
          ],
          "scattercarpet": [
           {
            "marker": {
             "colorbar": {
              "outlinewidth": 0,
              "ticks": ""
             }
            },
            "type": "scattercarpet"
           }
          ],
          "scattergeo": [
           {
            "marker": {
             "colorbar": {
              "outlinewidth": 0,
              "ticks": ""
             }
            },
            "type": "scattergeo"
           }
          ],
          "scattergl": [
           {
            "marker": {
             "colorbar": {
              "outlinewidth": 0,
              "ticks": ""
             }
            },
            "type": "scattergl"
           }
          ],
          "scattermapbox": [
           {
            "marker": {
             "colorbar": {
              "outlinewidth": 0,
              "ticks": ""
             }
            },
            "type": "scattermapbox"
           }
          ],
          "scatterpolar": [
           {
            "marker": {
             "colorbar": {
              "outlinewidth": 0,
              "ticks": ""
             }
            },
            "type": "scatterpolar"
           }
          ],
          "scatterpolargl": [
           {
            "marker": {
             "colorbar": {
              "outlinewidth": 0,
              "ticks": ""
             }
            },
            "type": "scatterpolargl"
           }
          ],
          "scatterternary": [
           {
            "marker": {
             "colorbar": {
              "outlinewidth": 0,
              "ticks": ""
             }
            },
            "type": "scatterternary"
           }
          ],
          "surface": [
           {
            "colorbar": {
             "outlinewidth": 0,
             "ticks": ""
            },
            "colorscale": [
             [
              0,
              "#0d0887"
             ],
             [
              0.1111111111111111,
              "#46039f"
             ],
             [
              0.2222222222222222,
              "#7201a8"
             ],
             [
              0.3333333333333333,
              "#9c179e"
             ],
             [
              0.4444444444444444,
              "#bd3786"
             ],
             [
              0.5555555555555556,
              "#d8576b"
             ],
             [
              0.6666666666666666,
              "#ed7953"
             ],
             [
              0.7777777777777778,
              "#fb9f3a"
             ],
             [
              0.8888888888888888,
              "#fdca26"
             ],
             [
              1,
              "#f0f921"
             ]
            ],
            "type": "surface"
           }
          ],
          "table": [
           {
            "cells": {
             "fill": {
              "color": "#EBF0F8"
             },
             "line": {
              "color": "white"
             }
            },
            "header": {
             "fill": {
              "color": "#C8D4E3"
             },
             "line": {
              "color": "white"
             }
            },
            "type": "table"
           }
          ]
         },
         "layout": {
          "annotationdefaults": {
           "arrowcolor": "#2a3f5f",
           "arrowhead": 0,
           "arrowwidth": 1
          },
          "coloraxis": {
           "colorbar": {
            "outlinewidth": 0,
            "ticks": ""
           }
          },
          "colorscale": {
           "diverging": [
            [
             0,
             "#8e0152"
            ],
            [
             0.1,
             "#c51b7d"
            ],
            [
             0.2,
             "#de77ae"
            ],
            [
             0.3,
             "#f1b6da"
            ],
            [
             0.4,
             "#fde0ef"
            ],
            [
             0.5,
             "#f7f7f7"
            ],
            [
             0.6,
             "#e6f5d0"
            ],
            [
             0.7,
             "#b8e186"
            ],
            [
             0.8,
             "#7fbc41"
            ],
            [
             0.9,
             "#4d9221"
            ],
            [
             1,
             "#276419"
            ]
           ],
           "sequential": [
            [
             0,
             "#0d0887"
            ],
            [
             0.1111111111111111,
             "#46039f"
            ],
            [
             0.2222222222222222,
             "#7201a8"
            ],
            [
             0.3333333333333333,
             "#9c179e"
            ],
            [
             0.4444444444444444,
             "#bd3786"
            ],
            [
             0.5555555555555556,
             "#d8576b"
            ],
            [
             0.6666666666666666,
             "#ed7953"
            ],
            [
             0.7777777777777778,
             "#fb9f3a"
            ],
            [
             0.8888888888888888,
             "#fdca26"
            ],
            [
             1,
             "#f0f921"
            ]
           ],
           "sequentialminus": [
            [
             0,
             "#0d0887"
            ],
            [
             0.1111111111111111,
             "#46039f"
            ],
            [
             0.2222222222222222,
             "#7201a8"
            ],
            [
             0.3333333333333333,
             "#9c179e"
            ],
            [
             0.4444444444444444,
             "#bd3786"
            ],
            [
             0.5555555555555556,
             "#d8576b"
            ],
            [
             0.6666666666666666,
             "#ed7953"
            ],
            [
             0.7777777777777778,
             "#fb9f3a"
            ],
            [
             0.8888888888888888,
             "#fdca26"
            ],
            [
             1,
             "#f0f921"
            ]
           ]
          },
          "colorway": [
           "#636efa",
           "#EF553B",
           "#00cc96",
           "#ab63fa",
           "#FFA15A",
           "#19d3f3",
           "#FF6692",
           "#B6E880",
           "#FF97FF",
           "#FECB52"
          ],
          "font": {
           "color": "#2a3f5f"
          },
          "geo": {
           "bgcolor": "white",
           "lakecolor": "white",
           "landcolor": "#E5ECF6",
           "showlakes": true,
           "showland": true,
           "subunitcolor": "white"
          },
          "hoverlabel": {
           "align": "left"
          },
          "hovermode": "closest",
          "mapbox": {
           "style": "light"
          },
          "paper_bgcolor": "white",
          "plot_bgcolor": "#E5ECF6",
          "polar": {
           "angularaxis": {
            "gridcolor": "white",
            "linecolor": "white",
            "ticks": ""
           },
           "bgcolor": "#E5ECF6",
           "radialaxis": {
            "gridcolor": "white",
            "linecolor": "white",
            "ticks": ""
           }
          },
          "scene": {
           "xaxis": {
            "backgroundcolor": "#E5ECF6",
            "gridcolor": "white",
            "gridwidth": 2,
            "linecolor": "white",
            "showbackground": true,
            "ticks": "",
            "zerolinecolor": "white"
           },
           "yaxis": {
            "backgroundcolor": "#E5ECF6",
            "gridcolor": "white",
            "gridwidth": 2,
            "linecolor": "white",
            "showbackground": true,
            "ticks": "",
            "zerolinecolor": "white"
           },
           "zaxis": {
            "backgroundcolor": "#E5ECF6",
            "gridcolor": "white",
            "gridwidth": 2,
            "linecolor": "white",
            "showbackground": true,
            "ticks": "",
            "zerolinecolor": "white"
           }
          },
          "shapedefaults": {
           "line": {
            "color": "#2a3f5f"
           }
          },
          "ternary": {
           "aaxis": {
            "gridcolor": "white",
            "linecolor": "white",
            "ticks": ""
           },
           "baxis": {
            "gridcolor": "white",
            "linecolor": "white",
            "ticks": ""
           },
           "bgcolor": "#E5ECF6",
           "caxis": {
            "gridcolor": "white",
            "linecolor": "white",
            "ticks": ""
           }
          },
          "title": {
           "x": 0.05
          },
          "xaxis": {
           "automargin": true,
           "gridcolor": "white",
           "linecolor": "white",
           "ticks": "",
           "title": {
            "standoff": 15
           },
           "zerolinecolor": "white",
           "zerolinewidth": 2
          },
          "yaxis": {
           "automargin": true,
           "gridcolor": "white",
           "linecolor": "white",
           "ticks": "",
           "title": {
            "standoff": 15
           },
           "zerolinecolor": "white",
           "zerolinewidth": 2
          }
         }
        },
        "xaxis": {
         "anchor": "y",
         "domain": [
          0,
          1
         ],
         "title": {
          "text": "year"
         }
        },
        "yaxis": {
         "anchor": "x",
         "domain": [
          0,
          1
         ],
         "title": {
          "text": "value"
         }
        }
       }
      },
      "text/html": [
       "<div>\n",
       "        \n",
       "        \n",
       "            <div id=\"4d94498c-98eb-4686-bf61-61241fa8a3ca\" class=\"plotly-graph-div\" style=\"height:525px; width:100%;\"></div>\n",
       "            <script type=\"text/javascript\">\n",
       "                require([\"plotly\"], function(Plotly) {\n",
       "                    window.PLOTLYENV=window.PLOTLYENV || {};\n",
       "                    \n",
       "                if (document.getElementById(\"4d94498c-98eb-4686-bf61-61241fa8a3ca\")) {\n",
       "                    Plotly.newPlot(\n",
       "                        '4d94498c-98eb-4686-bf61-61241fa8a3ca',\n",
       "                        [{\"hovertemplate\": \"variable=WeightedWageChange<br>year=%{x}<br>value=%{y}<extra></extra>\", \"legendgroup\": \"WeightedWageChange\", \"line\": {\"color\": \"#636efa\", \"dash\": \"solid\"}, \"mode\": \"lines\", \"name\": \"WeightedWageChange\", \"orientation\": \"v\", \"showlegend\": true, \"type\": \"scatter\", \"x\": [1994, 1995, 1996, 1997, 1998, 1999, 2001, 2002, 2003, 2004, 2005, 2006, 2007, 2008, 2010, 2011, 2012, 2013, 2014, 2015, 2016, 2017, 2018, 2019], \"xaxis\": \"x\", \"y\": [0.002665599350686289, 0.031186087437847555, 0.10043147261586974, 0.026908984360946908, -0.05406525347594731, 0.021358562561683826, 0.021210808353106767, 0.09292301481352556, 0.03613726518085048, -0.03377224865530009, 0.10096404356514316, 0.04948416782584087, 0.04762523610819682, 0.047394529774574624, -0.053141929712903685, -0.07521132104628613, -0.05733143126329394, -0.08258953811438167, -0.031122154892369164, 0.002924631286949274, -0.05840855046372347, -0.06506316424005218, -0.12223444842241166, -0.04340891352903221], \"yaxis\": \"y\"}, {\"hovertemplate\": \"variable=WeightedRentChange<br>year=%{x}<br>value=%{y}<extra></extra>\", \"legendgroup\": \"WeightedRentChange\", \"line\": {\"color\": \"#EF553B\", \"dash\": \"solid\"}, \"mode\": \"lines\", \"name\": \"WeightedRentChange\", \"orientation\": \"v\", \"showlegend\": true, \"type\": \"scatter\", \"x\": [1994, 1995, 1996, 1997, 1998, 1999, 2001, 2002, 2003, 2004, 2005, 2006, 2007, 2008, 2010, 2011, 2012, 2013, 2014, 2015, 2016, 2017, 2018, 2019], \"xaxis\": \"x\", \"y\": [0.030259523557236212, 0.03609186667440151, 0.05749211544462665, 0.057057469673363836, 0.03160736344317254, 0.08814727987203143, 0.045735704188141976, 0.047954464570587385, 0.040405366592032116, 0.03661300623989941, 0.054992796250785375, 0.07554173404945448, 0.054638923607599546, 0.0395343943503535, 0.03596622095121435, 0.05296901651294106, 0.05042202888623203, 0.04843043931529416, 0.0494524386959639, 0.023996407322046588, 0.03265681309894483, 0.029650041826186777, 0.046975111444942534, 0.06428235537400359], \"yaxis\": \"y\"}, {\"hovertemplate\": \"variable=Dual<br>year=%{x}<br>value=%{y}<extra></extra>\", \"legendgroup\": \"Dual\", \"line\": {\"color\": \"#00cc96\", \"dash\": \"solid\"}, \"mode\": \"lines\", \"name\": \"Dual\", \"orientation\": \"v\", \"showlegend\": true, \"type\": \"scatter\", \"x\": [1994, 1995, 1996, 1997, 1998, 1999, 2001, 2002, 2003, 2004, 2005, 2006, 2007, 2008, 2010, 2011, 2012, 2013, 2014, 2015, 2016, 2017, 2018, 2019], \"xaxis\": \"x\", \"y\": [0.008151312597895482, 0.03212545860485775, 0.0922152932745604, 0.033095076690988455, -0.03371387582406852, 0.03838817271137537, 0.02736816677661426, 0.08180824707387012, 0.03723770609712823, -0.015052430711959516, 0.08854815115668012, 0.05616895371591542, 0.049417001742469865, 0.04537639087855945, -0.027718884233602144, -0.03500997949741102, -0.02232644932042526, -0.03936735120910703, -0.004229049161247243, 0.009772905186762533, -0.02961203057951272, -0.03529210329992833, -0.06920196755941779, -0.009657066637586986], \"yaxis\": \"y\"}, {\"hovertemplate\": \"variable=WeightedManHourChange<br>year=%{x}<br>value=%{y}<extra></extra>\", \"legendgroup\": \"WeightedManHourChange\", \"line\": {\"color\": \"#ab63fa\", \"dash\": \"solid\"}, \"mode\": \"lines\", \"name\": \"WeightedManHourChange\", \"orientation\": \"v\", \"showlegend\": true, \"type\": \"scatter\", \"x\": [1994, 1995, 1996, 1997, 1998, 1999, 2001, 2002, 2003, 2004, 2005, 2006, 2007, 2008, 2010, 2011, 2012, 2013, 2014, 2015, 2016, 2017, 2018, 2019], \"xaxis\": \"x\", \"y\": [0.005217416425575579, 0.07493661564945255, -0.001863446444019378, 0.006877818851025869, -0.07020548858253542, 0.17464830931572078, 0.07673673047823737, 0.04570726667158972, 0.004662058363350137, 0.0609132731456214, 0.003042542819264227, 0.028722001844736413, 0.007262813765443259, 0.03831607826997333, 0.06280392544217933, 0.10395694394958986, 0.08617919472465774, 0.051439711083799716, 0.1041076002162905, 0.04611076095227462, 0.08484057671692641, 0.04435909415778108, 0.059787213512784224, 0.06541613519356097], \"yaxis\": \"y\"}],\n",
       "                        {\"legend\": {\"title\": {\"text\": \"variable\"}, \"tracegroupgap\": 0}, \"margin\": {\"t\": 60}, \"template\": {\"data\": {\"bar\": [{\"error_x\": {\"color\": \"#2a3f5f\"}, \"error_y\": {\"color\": \"#2a3f5f\"}, \"marker\": {\"line\": {\"color\": \"#E5ECF6\", \"width\": 0.5}}, \"type\": \"bar\"}], \"barpolar\": [{\"marker\": {\"line\": {\"color\": \"#E5ECF6\", \"width\": 0.5}}, \"type\": \"barpolar\"}], \"carpet\": [{\"aaxis\": {\"endlinecolor\": \"#2a3f5f\", \"gridcolor\": \"white\", \"linecolor\": \"white\", \"minorgridcolor\": \"white\", \"startlinecolor\": \"#2a3f5f\"}, \"baxis\": {\"endlinecolor\": \"#2a3f5f\", \"gridcolor\": \"white\", \"linecolor\": \"white\", \"minorgridcolor\": \"white\", \"startlinecolor\": \"#2a3f5f\"}, \"type\": \"carpet\"}], \"choropleth\": [{\"colorbar\": {\"outlinewidth\": 0, \"ticks\": \"\"}, \"type\": \"choropleth\"}], \"contour\": [{\"colorbar\": {\"outlinewidth\": 0, \"ticks\": \"\"}, \"colorscale\": [[0.0, \"#0d0887\"], [0.1111111111111111, \"#46039f\"], [0.2222222222222222, \"#7201a8\"], [0.3333333333333333, \"#9c179e\"], [0.4444444444444444, \"#bd3786\"], [0.5555555555555556, \"#d8576b\"], [0.6666666666666666, \"#ed7953\"], [0.7777777777777778, \"#fb9f3a\"], [0.8888888888888888, \"#fdca26\"], [1.0, \"#f0f921\"]], \"type\": \"contour\"}], \"contourcarpet\": [{\"colorbar\": {\"outlinewidth\": 0, \"ticks\": \"\"}, \"type\": \"contourcarpet\"}], \"heatmap\": [{\"colorbar\": {\"outlinewidth\": 0, \"ticks\": \"\"}, \"colorscale\": [[0.0, \"#0d0887\"], [0.1111111111111111, \"#46039f\"], [0.2222222222222222, \"#7201a8\"], [0.3333333333333333, \"#9c179e\"], [0.4444444444444444, \"#bd3786\"], [0.5555555555555556, \"#d8576b\"], [0.6666666666666666, \"#ed7953\"], [0.7777777777777778, \"#fb9f3a\"], [0.8888888888888888, \"#fdca26\"], [1.0, \"#f0f921\"]], \"type\": \"heatmap\"}], \"heatmapgl\": [{\"colorbar\": {\"outlinewidth\": 0, \"ticks\": \"\"}, \"colorscale\": [[0.0, \"#0d0887\"], [0.1111111111111111, \"#46039f\"], [0.2222222222222222, \"#7201a8\"], [0.3333333333333333, \"#9c179e\"], [0.4444444444444444, \"#bd3786\"], [0.5555555555555556, \"#d8576b\"], [0.6666666666666666, \"#ed7953\"], [0.7777777777777778, \"#fb9f3a\"], [0.8888888888888888, \"#fdca26\"], [1.0, \"#f0f921\"]], \"type\": \"heatmapgl\"}], \"histogram\": [{\"marker\": {\"colorbar\": {\"outlinewidth\": 0, \"ticks\": \"\"}}, \"type\": \"histogram\"}], \"histogram2d\": [{\"colorbar\": {\"outlinewidth\": 0, \"ticks\": \"\"}, \"colorscale\": [[0.0, \"#0d0887\"], [0.1111111111111111, \"#46039f\"], [0.2222222222222222, \"#7201a8\"], [0.3333333333333333, \"#9c179e\"], [0.4444444444444444, \"#bd3786\"], [0.5555555555555556, \"#d8576b\"], [0.6666666666666666, \"#ed7953\"], [0.7777777777777778, \"#fb9f3a\"], [0.8888888888888888, \"#fdca26\"], [1.0, \"#f0f921\"]], \"type\": \"histogram2d\"}], \"histogram2dcontour\": [{\"colorbar\": {\"outlinewidth\": 0, \"ticks\": \"\"}, \"colorscale\": [[0.0, \"#0d0887\"], [0.1111111111111111, \"#46039f\"], [0.2222222222222222, \"#7201a8\"], [0.3333333333333333, \"#9c179e\"], [0.4444444444444444, \"#bd3786\"], [0.5555555555555556, \"#d8576b\"], [0.6666666666666666, \"#ed7953\"], [0.7777777777777778, \"#fb9f3a\"], [0.8888888888888888, \"#fdca26\"], [1.0, \"#f0f921\"]], \"type\": \"histogram2dcontour\"}], \"mesh3d\": [{\"colorbar\": {\"outlinewidth\": 0, \"ticks\": \"\"}, \"type\": \"mesh3d\"}], \"parcoords\": [{\"line\": {\"colorbar\": {\"outlinewidth\": 0, \"ticks\": \"\"}}, \"type\": \"parcoords\"}], \"pie\": [{\"automargin\": true, \"type\": \"pie\"}], \"scatter\": [{\"marker\": {\"colorbar\": {\"outlinewidth\": 0, \"ticks\": \"\"}}, \"type\": \"scatter\"}], \"scatter3d\": [{\"line\": {\"colorbar\": {\"outlinewidth\": 0, \"ticks\": \"\"}}, \"marker\": {\"colorbar\": {\"outlinewidth\": 0, \"ticks\": \"\"}}, \"type\": \"scatter3d\"}], \"scattercarpet\": [{\"marker\": {\"colorbar\": {\"outlinewidth\": 0, \"ticks\": \"\"}}, \"type\": \"scattercarpet\"}], \"scattergeo\": [{\"marker\": {\"colorbar\": {\"outlinewidth\": 0, \"ticks\": \"\"}}, \"type\": \"scattergeo\"}], \"scattergl\": [{\"marker\": {\"colorbar\": {\"outlinewidth\": 0, \"ticks\": \"\"}}, \"type\": \"scattergl\"}], \"scattermapbox\": [{\"marker\": {\"colorbar\": {\"outlinewidth\": 0, \"ticks\": \"\"}}, \"type\": \"scattermapbox\"}], \"scatterpolar\": [{\"marker\": {\"colorbar\": {\"outlinewidth\": 0, \"ticks\": \"\"}}, \"type\": \"scatterpolar\"}], \"scatterpolargl\": [{\"marker\": {\"colorbar\": {\"outlinewidth\": 0, \"ticks\": \"\"}}, \"type\": \"scatterpolargl\"}], \"scatterternary\": [{\"marker\": {\"colorbar\": {\"outlinewidth\": 0, \"ticks\": \"\"}}, \"type\": \"scatterternary\"}], \"surface\": [{\"colorbar\": {\"outlinewidth\": 0, \"ticks\": \"\"}, \"colorscale\": [[0.0, \"#0d0887\"], [0.1111111111111111, \"#46039f\"], [0.2222222222222222, \"#7201a8\"], [0.3333333333333333, \"#9c179e\"], [0.4444444444444444, \"#bd3786\"], [0.5555555555555556, \"#d8576b\"], [0.6666666666666666, \"#ed7953\"], [0.7777777777777778, \"#fb9f3a\"], [0.8888888888888888, \"#fdca26\"], [1.0, \"#f0f921\"]], \"type\": \"surface\"}], \"table\": [{\"cells\": {\"fill\": {\"color\": \"#EBF0F8\"}, \"line\": {\"color\": \"white\"}}, \"header\": {\"fill\": {\"color\": \"#C8D4E3\"}, \"line\": {\"color\": \"white\"}}, \"type\": \"table\"}]}, \"layout\": {\"annotationdefaults\": {\"arrowcolor\": \"#2a3f5f\", \"arrowhead\": 0, \"arrowwidth\": 1}, \"coloraxis\": {\"colorbar\": {\"outlinewidth\": 0, \"ticks\": \"\"}}, \"colorscale\": {\"diverging\": [[0, \"#8e0152\"], [0.1, \"#c51b7d\"], [0.2, \"#de77ae\"], [0.3, \"#f1b6da\"], [0.4, \"#fde0ef\"], [0.5, \"#f7f7f7\"], [0.6, \"#e6f5d0\"], [0.7, \"#b8e186\"], [0.8, \"#7fbc41\"], [0.9, \"#4d9221\"], [1, \"#276419\"]], \"sequential\": [[0.0, \"#0d0887\"], [0.1111111111111111, \"#46039f\"], [0.2222222222222222, \"#7201a8\"], [0.3333333333333333, \"#9c179e\"], [0.4444444444444444, \"#bd3786\"], [0.5555555555555556, \"#d8576b\"], [0.6666666666666666, \"#ed7953\"], [0.7777777777777778, \"#fb9f3a\"], [0.8888888888888888, \"#fdca26\"], [1.0, \"#f0f921\"]], \"sequentialminus\": [[0.0, \"#0d0887\"], [0.1111111111111111, \"#46039f\"], [0.2222222222222222, \"#7201a8\"], [0.3333333333333333, \"#9c179e\"], [0.4444444444444444, \"#bd3786\"], [0.5555555555555556, \"#d8576b\"], [0.6666666666666666, \"#ed7953\"], [0.7777777777777778, \"#fb9f3a\"], [0.8888888888888888, \"#fdca26\"], [1.0, \"#f0f921\"]]}, \"colorway\": [\"#636efa\", \"#EF553B\", \"#00cc96\", \"#ab63fa\", \"#FFA15A\", \"#19d3f3\", \"#FF6692\", \"#B6E880\", \"#FF97FF\", \"#FECB52\"], \"font\": {\"color\": \"#2a3f5f\"}, \"geo\": {\"bgcolor\": \"white\", \"lakecolor\": \"white\", \"landcolor\": \"#E5ECF6\", \"showlakes\": true, \"showland\": true, \"subunitcolor\": \"white\"}, \"hoverlabel\": {\"align\": \"left\"}, \"hovermode\": \"closest\", \"mapbox\": {\"style\": \"light\"}, \"paper_bgcolor\": \"white\", \"plot_bgcolor\": \"#E5ECF6\", \"polar\": {\"angularaxis\": {\"gridcolor\": \"white\", \"linecolor\": \"white\", \"ticks\": \"\"}, \"bgcolor\": \"#E5ECF6\", \"radialaxis\": {\"gridcolor\": \"white\", \"linecolor\": \"white\", \"ticks\": \"\"}}, \"scene\": {\"xaxis\": {\"backgroundcolor\": \"#E5ECF6\", \"gridcolor\": \"white\", \"gridwidth\": 2, \"linecolor\": \"white\", \"showbackground\": true, \"ticks\": \"\", \"zerolinecolor\": \"white\"}, \"yaxis\": {\"backgroundcolor\": \"#E5ECF6\", \"gridcolor\": \"white\", \"gridwidth\": 2, \"linecolor\": \"white\", \"showbackground\": true, \"ticks\": \"\", \"zerolinecolor\": \"white\"}, \"zaxis\": {\"backgroundcolor\": \"#E5ECF6\", \"gridcolor\": \"white\", \"gridwidth\": 2, \"linecolor\": \"white\", \"showbackground\": true, \"ticks\": \"\", \"zerolinecolor\": \"white\"}}, \"shapedefaults\": {\"line\": {\"color\": \"#2a3f5f\"}}, \"ternary\": {\"aaxis\": {\"gridcolor\": \"white\", \"linecolor\": \"white\", \"ticks\": \"\"}, \"baxis\": {\"gridcolor\": \"white\", \"linecolor\": \"white\", \"ticks\": \"\"}, \"bgcolor\": \"#E5ECF6\", \"caxis\": {\"gridcolor\": \"white\", \"linecolor\": \"white\", \"ticks\": \"\"}}, \"title\": {\"x\": 0.05}, \"xaxis\": {\"automargin\": true, \"gridcolor\": \"white\", \"linecolor\": \"white\", \"ticks\": \"\", \"title\": {\"standoff\": 15}, \"zerolinecolor\": \"white\", \"zerolinewidth\": 2}, \"yaxis\": {\"automargin\": true, \"gridcolor\": \"white\", \"linecolor\": \"white\", \"ticks\": \"\", \"title\": {\"standoff\": 15}, \"zerolinecolor\": \"white\", \"zerolinewidth\": 2}}}, \"xaxis\": {\"anchor\": \"y\", \"domain\": [0.0, 1.0], \"title\": {\"text\": \"year\"}}, \"yaxis\": {\"anchor\": \"x\", \"domain\": [0.0, 1.0], \"title\": {\"text\": \"value\"}}},\n",
       "                        {\"responsive\": true}\n",
       "                    ).then(function(){\n",
       "                            \n",
       "var gd = document.getElementById('4d94498c-98eb-4686-bf61-61241fa8a3ca');\n",
       "var x = new MutationObserver(function (mutations, observer) {{\n",
       "        var display = window.getComputedStyle(gd).display;\n",
       "        if (!display || display === 'none') {{\n",
       "            console.log([gd, 'removed!']);\n",
       "            Plotly.purge(gd);\n",
       "            observer.disconnect();\n",
       "        }}\n",
       "}});\n",
       "\n",
       "// Listen for the removal of the full notebook cells\n",
       "var notebookContainer = gd.closest('#notebook-container');\n",
       "if (notebookContainer) {{\n",
       "    x.observe(notebookContainer, {childList: true});\n",
       "}}\n",
       "\n",
       "// Listen for the clearing of the current output cell\n",
       "var outputEl = gd.closest('.output');\n",
       "if (outputEl) {{\n",
       "    x.observe(outputEl, {childList: true});\n",
       "}}\n",
       "\n",
       "                        })\n",
       "                };\n",
       "                });\n",
       "            </script>\n",
       "        </div>"
      ]
     },
     "metadata": {},
     "output_type": "display_data"
    }
   ],
   "source": [
    "px.line(plot_df, x='year', y='value', color='variable')"
   ]
  },
  {
   "cell_type": "code",
   "execution_count": 61,
   "metadata": {},
   "outputs": [
    {
     "data": {
      "text/plain": [
       "WeightedWageChange   -0.048927\n",
       "WeightedRentChange    0.043121\n",
       "LS                    0.688493\n",
       "KS                    0.311507\n",
       "Dual                 -0.019751\n",
       "dtype: float64"
      ]
     },
     "execution_count": 61,
     "metadata": {},
     "output_type": "execute_result"
    }
   ],
   "source": [
    "dual.query('year >= 2008').mean()"
   ]
  },
  {
   "cell_type": "code",
   "execution_count": null,
   "metadata": {},
   "outputs": [],
   "source": []
  }
 ],
 "metadata": {
  "kernelspec": {
   "display_name": "Python 3",
   "language": "python",
   "name": "python3"
  },
  "language_info": {
   "codemirror_mode": {
    "name": "ipython",
    "version": 3
   },
   "file_extension": ".py",
   "mimetype": "text/x-python",
   "name": "python",
   "nbconvert_exporter": "python",
   "pygments_lexer": "ipython3",
   "version": "3.7.6"
  }
 },
 "nbformat": 4,
 "nbformat_minor": 4
}
