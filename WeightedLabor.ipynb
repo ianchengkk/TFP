{
 "cells": [
  {
   "cell_type": "markdown",
   "metadata": {},
   "source": [
    "## Init"
   ]
  },
  {
   "cell_type": "code",
   "execution_count": 1,
   "metadata": {},
   "outputs": [],
   "source": [
    "import re\n",
    "import numpy as np\n",
    "import pandas as pd\n",
    "import plotly.express as px"
   ]
  },
  {
   "cell_type": "markdown",
   "metadata": {},
   "source": [
    "## Import Data"
   ]
  },
  {
   "cell_type": "code",
   "execution_count": 2,
   "metadata": {},
   "outputs": [],
   "source": [
    "labor93 = pd.read_csv(\"./data/KRLabor1.csv\", index_col=list(range(0,6)), header=([0]))\n",
    "labor00 = pd.read_csv(\"./data/KRLabor2.csv\", index_col=list(range(0,6)), header=([0]))\n",
    "labor09 = pd.read_csv(\"./data/KRLabor3.csv\", index_col=list(range(0,6)), header=([0]))"
   ]
  },
  {
   "cell_type": "code",
   "execution_count": 3,
   "metadata": {},
   "outputs": [],
   "source": [
    "gdp_deflator = pd.read_csv('./data/KRGDPDeflator.csv', skiprows=26, dtype={0:'object'})\n",
    "gdp_deflator.columns = ['Year', 'GDPDeflator']\n",
    "gdp_deflator.set_index('Year', inplace=True)\n"
   ]
  },
  {
   "cell_type": "markdown",
   "metadata": {},
   "source": [
    "## Tidy Data"
   ]
  },
  {
   "cell_type": "code",
   "execution_count": 4,
   "metadata": {},
   "outputs": [],
   "source": [
    "labor93 = \\\n",
    "(labor93\n",
    " #columns and format\n",
    " .rename(columns=lambda x: re.sub('[^0-9]', \"\", x))\n",
    " .droplevel('UNIT')\n",
    " .unstack('Item')\n",
    " .reorder_levels([1,0], axis=1)\n",
    " .sort_index(axis=1)\n",
    " .rename_axis(['Item', 'Year'], axis=1)\n",
    " .stack('Year')\n",
    " .query('Industry != \"Total\" &\\\n",
    "         Education != \"Total\" &\\\n",
    "         Sex != \"Total\" &\\\n",
    "         Age != \"Total\"')\n",
    " # tidy\n",
    " .rename(columns=lambda x: x.replace(\" \", \"\"))\n",
    " .reorder_levels([4,0,1,2,3])\n",
    " .sort_index(0)\n",
    ")"
   ]
  },
  {
   "cell_type": "code",
   "execution_count": 5,
   "metadata": {},
   "outputs": [],
   "source": [
    "labor00 =\\\n",
    "(labor00\n",
    " #columns and format\n",
    " .rename(columns=lambda x: re.sub('[^0-9]', \"\", x))\n",
    " .droplevel('UNIT')\n",
    " .unstack('Item')\n",
    " .reorder_levels([1,0], axis=1)\n",
    " .sort_index(axis=1)\n",
    " .rename_axis(['Item', 'Year'], axis=1)\n",
    " .stack('Year')\n",
    " # no total in the data\n",
    " # tidy\n",
    " .rename(columns=lambda x: x.replace(\" \", \"\"))\n",
    " .reorder_levels([4,0,1,2,3])\n",
    " .sort_index(0)\n",
    ")"
   ]
  },
  {
   "cell_type": "code",
   "execution_count": 6,
   "metadata": {},
   "outputs": [],
   "source": [
    "def change_colnames(df, colnames):\n",
    "    df.columns = colnames\n",
    "    return df\n",
    "\n",
    "labor09 =\\\n",
    "(labor09\n",
    " #columns and format\n",
    " .rename(columns=lambda x: re.sub('[^0-9]', \"\", x))\n",
    " .droplevel('UNIT')\n",
    " .unstack('Item')\n",
    " .reorder_levels([1,0], axis=1)\n",
    " .sort_index(axis=1)\n",
    " .rename_axis(['Item', 'Year'], axis=1)\n",
    " .stack('Year')\n",
    " #tidy and harmonise with other dataframes\n",
    " .pipe(change_colnames, ['Employment', 'MonthlyTotalwage', 'Totalhoursworked'])\n",
    " .rename_axis(index={'INDUSTRY_9S':'Industry'})\n",
    " .replace(\"-\", np.NaN)\n",
    " .astype('float')\n",
    " .assign(MonthlyTotalwage=lambda x: x.MonthlyTotalwage*10000)\n",
    " .rename(columns=lambda x: x.replace(\" \", \"\"))\n",
    " .reorder_levels([4,0,1,2,3])\n",
    " .sort_index(0)\n",
    ")"
   ]
  },
  {
   "cell_type": "code",
   "execution_count": 7,
   "metadata": {},
   "outputs": [],
   "source": [
    "labor = pd.concat([labor09, labor00, labor93], axis=0).sort_index()"
   ]
  },
  {
   "cell_type": "markdown",
   "metadata": {},
   "source": [
    "## Transform Data"
   ]
  },
  {
   "cell_type": "code",
   "execution_count": 8,
   "metadata": {},
   "outputs": [],
   "source": [
    "labor_agg =\\\n",
    "(labor\n",
    " #filter \n",
    " .query('Industry != \"Agriculture,hunting and forestry(01-02)\"')\n",
    " .replace(\"-\", np.NaN)\n",
    " .astype('float')\n",
    " #mutate\n",
    " .assign(W=lambda x: round(x.MonthlyTotalwage/1000, 0)/x.Totalhoursworked,\n",
    "         H=lambda x: x.Employment*x.Totalhoursworked)\n",
    " #aggregate\n",
    " .groupby(['Education', 'Sex', 'Age', 'Year'])\n",
    " .agg({'W':'mean',\n",
    "       'H': 'sum'})\n",
    " .assign(TW=lambda x: x.W*x.H)\n",
    " .join(gdp_deflator)\n",
    ")"
   ]
  },
  {
   "cell_type": "code",
   "execution_count": 9,
   "metadata": {},
   "outputs": [
    {
     "name": "stderr",
     "output_type": "stream",
     "text": [
      "C:\\Users\\leo\\anaconda3\\lib\\site-packages\\pandas\\core\\algorithms.py:1926: RuntimeWarning: invalid value encountered in subtract\n",
      "  out_arr[res_indexer] = arr[res_indexer] - arr[lag_indexer]\n"
     ]
    }
   ],
   "source": [
    "# merge and create new columns\n",
    "dlnw =\\\n",
    "(labor_agg\n",
    " .assign(lnW=lambda x: x.W.apply(np.log))\n",
    " .groupby(['Education', 'Sex', 'Age'])\n",
    " ['lnW']\n",
    " .diff()\n",
    " .to_frame()\n",
    " .rename(columns={'lnW':'dlnW'})\n",
    " .replace(np.inf, np.NaN)\n",
    ")\n",
    "\n",
    "tw_yr =\\\n",
    "(labor_agg\n",
    " .groupby('Year')\n",
    " ['TW']\n",
    " .sum()\n",
    ")\n",
    "\n",
    "pi =\\\n",
    "(gdp_deflator\n",
    " .apply(np.log)\n",
    " .diff()\n",
    " .rename(columns={'GDPDeflator': 'Pi'})\n",
    ")\n",
    "\n",
    "dlnH =\\\n",
    "(labor_agg\n",
    " ['H']\n",
    " .apply(np.log)\n",
    " .groupby(['Education', 'Sex', 'Age'])\n",
    " .diff()\n",
    " .to_frame()\n",
    " .rename(columns={'H':'dlnH'})\n",
    " .replace(np.inf, np.NaN)\n",
    ")\n",
    "\n",
    "wdlnw =\\\n",
    "(labor_agg\n",
    " .assign(Weight=lambda x: x.TW/tw_yr)\n",
    " .join(dlnw)\n",
    " .join(pi)\n",
    " .assign(wdlnw=lambda x: x.Weight*(x.dlnW-x.Pi))\n",
    " .groupby('Year')\n",
    " ['wdlnw']\n",
    " .sum()\n",
    " .to_frame()\n",
    " .drop(['1993','2000','2009'])\n",
    ")\n",
    "\n",
    "wdlnh =\\\n",
    "(labor_agg\n",
    " .assign(Weight=lambda x: x.TW/tw_yr)\n",
    " .join(dlnH)\n",
    " .assign(wdlnH=lambda x: x.Weight*x.dlnH)\n",
    " .groupby('Year')\n",
    " ['wdlnH']\n",
    " .sum()\n",
    " .to_frame()\n",
    " .drop(['1993','2000','2009'])\n",
    ")"
   ]
  },
  {
   "cell_type": "code",
   "execution_count": 10,
   "metadata": {},
   "outputs": [],
   "source": [
    "wdlnh.to_csv('./data/KRWdlnH.csv')\n",
    "wdlnw.to_csv('./data/KRWdlnw.csv')"
   ]
  },
  {
   "cell_type": "code",
   "execution_count": 11,
   "metadata": {},
   "outputs": [],
   "source": [
    "plt = px.line(wdlnw.join(wdlnh).reset_index().melt(id_vars='Year'), x='Year', y='value', color='variable')\n"
   ]
  },
  {
   "cell_type": "code",
   "execution_count": 12,
   "metadata": {},
   "outputs": [],
   "source": [
    "plt.write_html('./output/WeightedPercentageChangeinWageandManHour.html')"
   ]
  },
  {
   "cell_type": "code",
   "execution_count": null,
   "metadata": {},
   "outputs": [],
   "source": []
  },
  {
   "cell_type": "markdown",
   "metadata": {},
   "source": [
    "## Long Term"
   ]
  },
  {
   "cell_type": "code",
   "execution_count": 39,
   "metadata": {},
   "outputs": [],
   "source": [
    "\n",
    "start_year = '2009'\n",
    "end_year = '2019'\n",
    "\n",
    "dpctagg =\\\n",
    "(labor_agg\n",
    " .query(f'Year == \"{start_year}\" | Year == \"{end_year}\"')\n",
    " .groupby(['Education', 'Sex', 'Age'])\n",
    " .pct_change()\n",
    " .rename(columns=lambda x: \"dpct\" + x)\n",
    ")\n",
    "\n",
    "yr_agg =\\\n",
    "(labor_agg\n",
    " .query(f'Year == \"{start_year}\" | Year == \"{end_year}\"')\n",
    " .groupby('Year')\n",
    " ['TW']\n",
    " .sum()\n",
    ")\n",
    "\n",
    "\n",
    "dual =\\\n",
    "(labor_agg\n",
    " .query(f'Year == \"{start_year}\" | Year == \"{end_year}\"')\n",
    " .join(dpctagg)\n",
    " .assign(Weight=lambda x: x.TW/yr_agg)\n",
    " .assign(Wdpctw=lambda x: x.Weight*((1+x.dpctW)/(1+x.dpctGDPDeflator)))\n",
    " .groupby('Year')\n",
    " ['Wdpctw']\n",
    " .sum()\n",
    ")"
   ]
  },
  {
   "cell_type": "code",
   "execution_count": null,
   "metadata": {},
   "outputs": [],
   "source": []
  },
  {
   "cell_type": "code",
   "execution_count": null,
   "metadata": {},
   "outputs": [],
   "source": []
  },
  {
   "cell_type": "code",
   "execution_count": null,
   "metadata": {},
   "outputs": [],
   "source": []
  }
 ],
 "metadata": {
  "kernelspec": {
   "display_name": "Python 3",
   "language": "python",
   "name": "python3"
  },
  "language_info": {
   "codemirror_mode": {
    "name": "ipython",
    "version": 3
   },
   "file_extension": ".py",
   "mimetype": "text/x-python",
   "name": "python",
   "nbconvert_exporter": "python",
   "pygments_lexer": "ipython3",
   "version": "3.7.6"
  }
 },
 "nbformat": 4,
 "nbformat_minor": 4
}
